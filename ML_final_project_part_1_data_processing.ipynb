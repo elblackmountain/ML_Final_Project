{
  "cells": [
    {
      "cell_type": "markdown",
      "metadata": {
        "id": "NO5q2HIS8gdq"
      },
      "source": [
        "# Projekt końcowy część 1 - obróbka danych"
      ]
    },
    {
      "cell_type": "markdown",
      "source": [
        "## Instrukcja"
      ],
      "metadata": {
        "id": "awWHIhGbaQ5O"
      }
    },
    {
      "cell_type": "markdown",
      "metadata": {
        "id": "Ajqat0f78gdt"
      },
      "source": [
        "1. Poprawne wczytanie danych z pliku\n",
        "\n",
        "2. Usunięcie kolumn które zawierają informacje z przyszłości, niedostępne w momencie udzielania pożyczki\n",
        "\n",
        "3. Usunięcie kolumn ze zbędnymi informacjami\n",
        "\n",
        "4. Usunięcie kolumn tylko jedną unikalną wartością\n",
        "\n",
        "5. Rzut okiem na wartości w kolumnie ze statusem pożyczki\n",
        "\n",
        "6. Przekształcenie wartości w kolumnach - usunięcie procentów, dodatkowych znaków, itd\n",
        "\n",
        "7. Analiza brakujących wartości wraz z ich uzupełnieniem/usunięciem przy wzięciu pod uwagę pewnych ustalonych kryteriów"
      ]
    },
    {
      "cell_type": "markdown",
      "source": [
        "## Załadowanie i obejrzenie bazy"
      ],
      "metadata": {
        "id": "yjnSAkIPy2Vo"
      }
    },
    {
      "cell_type": "code",
      "execution_count": null,
      "metadata": {
        "id": "B8DuztPX8gdu"
      },
      "outputs": [],
      "source": [
        "import pandas as pd\n",
        "import numpy as np\n",
        "from google.colab import drive\n",
        "import seaborn as sns\n"
      ]
    },
    {
      "cell_type": "code",
      "source": [
        "drive.mount('/content/drive')"
      ],
      "metadata": {
        "colab": {
          "base_uri": "https://localhost:8080/"
        },
        "id": "PzLNLD9699RM",
        "outputId": "fe3b8356-6faf-4942-f8fc-2e13072d950b"
      },
      "execution_count": null,
      "outputs": [
        {
          "output_type": "stream",
          "name": "stdout",
          "text": [
            "Drive already mounted at /content/drive; to attempt to forcibly remount, call drive.mount(\"/content/drive\", force_remount=True).\n"
          ]
        }
      ]
    },
    {
      "cell_type": "code",
      "execution_count": null,
      "metadata": {
        "id": "l4sLrX1B8gdv"
      },
      "outputs": [],
      "source": [
        "df = pd.read_csv('drive/MyDrive/projekt_koncowy/Loan_data.csv', low_memory=False)"
      ]
    },
    {
      "cell_type": "code",
      "execution_count": null,
      "metadata": {
        "colab": {
          "base_uri": "https://localhost:8080/",
          "height": 386
        },
        "id": "AwGCy_728gdv",
        "outputId": "f48c0f9a-11c5-4dc7-ba97-d65324019655"
      },
      "outputs": [
        {
          "output_type": "execute_result",
          "data": {
            "text/plain": [
              "        id  member_id  loan_amnt  funded_amnt  funded_amnt_inv        term  \\\n",
              "1  1077501        NaN     5000.0       5000.0           4975.0   36 months   \n",
              "2  1077430        NaN     2500.0       2500.0           2500.0   60 months   \n",
              "3  1077175        NaN     2400.0       2400.0           2400.0   36 months   \n",
              "4  1076863        NaN    10000.0      10000.0          10000.0   36 months   \n",
              "5  1075358        NaN     3000.0       3000.0           3000.0   60 months   \n",
              "\n",
              "  int_rate  installment grade sub_grade  ... hardship_payoff_balance_amount  \\\n",
              "1   10.65%       162.87     B        B2  ...                            NaN   \n",
              "2   15.27%        59.83     C        C4  ...                            NaN   \n",
              "3   15.96%        84.33     C        C5  ...                            NaN   \n",
              "4   13.49%       339.31     C        C1  ...                            NaN   \n",
              "5   12.69%        67.79     B        B5  ...                            NaN   \n",
              "\n",
              "  hardship_last_payment_amount disbursement_method  debt_settlement_flag  \\\n",
              "1                          NaN                Cash                     N   \n",
              "2                          NaN                Cash                     N   \n",
              "3                          NaN                Cash                     N   \n",
              "4                          NaN                Cash                     N   \n",
              "5                          NaN                Cash                     N   \n",
              "\n",
              "  debt_settlement_flag_date settlement_status settlement_date  \\\n",
              "1                       NaN               NaN             NaN   \n",
              "2                       NaN               NaN             NaN   \n",
              "3                       NaN               NaN             NaN   \n",
              "4                       NaN               NaN             NaN   \n",
              "5                       NaN               NaN             NaN   \n",
              "\n",
              "  settlement_amount settlement_percentage settlement_term  \n",
              "1               NaN                   NaN             NaN  \n",
              "2               NaN                   NaN             NaN  \n",
              "3               NaN                   NaN             NaN  \n",
              "4               NaN                   NaN             NaN  \n",
              "5               NaN                   NaN             NaN  \n",
              "\n",
              "[5 rows x 151 columns]"
            ],
            "text/html": [
              "\n",
              "  <div id=\"df-c01d754c-0270-4f63-9750-07ab4479955e\">\n",
              "    <div class=\"colab-df-container\">\n",
              "      <div>\n",
              "<style scoped>\n",
              "    .dataframe tbody tr th:only-of-type {\n",
              "        vertical-align: middle;\n",
              "    }\n",
              "\n",
              "    .dataframe tbody tr th {\n",
              "        vertical-align: top;\n",
              "    }\n",
              "\n",
              "    .dataframe thead th {\n",
              "        text-align: right;\n",
              "    }\n",
              "</style>\n",
              "<table border=\"1\" class=\"dataframe\">\n",
              "  <thead>\n",
              "    <tr style=\"text-align: right;\">\n",
              "      <th></th>\n",
              "      <th>id</th>\n",
              "      <th>member_id</th>\n",
              "      <th>loan_amnt</th>\n",
              "      <th>funded_amnt</th>\n",
              "      <th>funded_amnt_inv</th>\n",
              "      <th>term</th>\n",
              "      <th>int_rate</th>\n",
              "      <th>installment</th>\n",
              "      <th>grade</th>\n",
              "      <th>sub_grade</th>\n",
              "      <th>...</th>\n",
              "      <th>hardship_payoff_balance_amount</th>\n",
              "      <th>hardship_last_payment_amount</th>\n",
              "      <th>disbursement_method</th>\n",
              "      <th>debt_settlement_flag</th>\n",
              "      <th>debt_settlement_flag_date</th>\n",
              "      <th>settlement_status</th>\n",
              "      <th>settlement_date</th>\n",
              "      <th>settlement_amount</th>\n",
              "      <th>settlement_percentage</th>\n",
              "      <th>settlement_term</th>\n",
              "    </tr>\n",
              "  </thead>\n",
              "  <tbody>\n",
              "    <tr>\n",
              "      <th>1</th>\n",
              "      <td>1077501</td>\n",
              "      <td>NaN</td>\n",
              "      <td>5000.0</td>\n",
              "      <td>5000.0</td>\n",
              "      <td>4975.0</td>\n",
              "      <td>36 months</td>\n",
              "      <td>10.65%</td>\n",
              "      <td>162.87</td>\n",
              "      <td>B</td>\n",
              "      <td>B2</td>\n",
              "      <td>...</td>\n",
              "      <td>NaN</td>\n",
              "      <td>NaN</td>\n",
              "      <td>Cash</td>\n",
              "      <td>N</td>\n",
              "      <td>NaN</td>\n",
              "      <td>NaN</td>\n",
              "      <td>NaN</td>\n",
              "      <td>NaN</td>\n",
              "      <td>NaN</td>\n",
              "      <td>NaN</td>\n",
              "    </tr>\n",
              "    <tr>\n",
              "      <th>2</th>\n",
              "      <td>1077430</td>\n",
              "      <td>NaN</td>\n",
              "      <td>2500.0</td>\n",
              "      <td>2500.0</td>\n",
              "      <td>2500.0</td>\n",
              "      <td>60 months</td>\n",
              "      <td>15.27%</td>\n",
              "      <td>59.83</td>\n",
              "      <td>C</td>\n",
              "      <td>C4</td>\n",
              "      <td>...</td>\n",
              "      <td>NaN</td>\n",
              "      <td>NaN</td>\n",
              "      <td>Cash</td>\n",
              "      <td>N</td>\n",
              "      <td>NaN</td>\n",
              "      <td>NaN</td>\n",
              "      <td>NaN</td>\n",
              "      <td>NaN</td>\n",
              "      <td>NaN</td>\n",
              "      <td>NaN</td>\n",
              "    </tr>\n",
              "    <tr>\n",
              "      <th>3</th>\n",
              "      <td>1077175</td>\n",
              "      <td>NaN</td>\n",
              "      <td>2400.0</td>\n",
              "      <td>2400.0</td>\n",
              "      <td>2400.0</td>\n",
              "      <td>36 months</td>\n",
              "      <td>15.96%</td>\n",
              "      <td>84.33</td>\n",
              "      <td>C</td>\n",
              "      <td>C5</td>\n",
              "      <td>...</td>\n",
              "      <td>NaN</td>\n",
              "      <td>NaN</td>\n",
              "      <td>Cash</td>\n",
              "      <td>N</td>\n",
              "      <td>NaN</td>\n",
              "      <td>NaN</td>\n",
              "      <td>NaN</td>\n",
              "      <td>NaN</td>\n",
              "      <td>NaN</td>\n",
              "      <td>NaN</td>\n",
              "    </tr>\n",
              "    <tr>\n",
              "      <th>4</th>\n",
              "      <td>1076863</td>\n",
              "      <td>NaN</td>\n",
              "      <td>10000.0</td>\n",
              "      <td>10000.0</td>\n",
              "      <td>10000.0</td>\n",
              "      <td>36 months</td>\n",
              "      <td>13.49%</td>\n",
              "      <td>339.31</td>\n",
              "      <td>C</td>\n",
              "      <td>C1</td>\n",
              "      <td>...</td>\n",
              "      <td>NaN</td>\n",
              "      <td>NaN</td>\n",
              "      <td>Cash</td>\n",
              "      <td>N</td>\n",
              "      <td>NaN</td>\n",
              "      <td>NaN</td>\n",
              "      <td>NaN</td>\n",
              "      <td>NaN</td>\n",
              "      <td>NaN</td>\n",
              "      <td>NaN</td>\n",
              "    </tr>\n",
              "    <tr>\n",
              "      <th>5</th>\n",
              "      <td>1075358</td>\n",
              "      <td>NaN</td>\n",
              "      <td>3000.0</td>\n",
              "      <td>3000.0</td>\n",
              "      <td>3000.0</td>\n",
              "      <td>60 months</td>\n",
              "      <td>12.69%</td>\n",
              "      <td>67.79</td>\n",
              "      <td>B</td>\n",
              "      <td>B5</td>\n",
              "      <td>...</td>\n",
              "      <td>NaN</td>\n",
              "      <td>NaN</td>\n",
              "      <td>Cash</td>\n",
              "      <td>N</td>\n",
              "      <td>NaN</td>\n",
              "      <td>NaN</td>\n",
              "      <td>NaN</td>\n",
              "      <td>NaN</td>\n",
              "      <td>NaN</td>\n",
              "      <td>NaN</td>\n",
              "    </tr>\n",
              "  </tbody>\n",
              "</table>\n",
              "<p>5 rows × 151 columns</p>\n",
              "</div>\n",
              "      <button class=\"colab-df-convert\" onclick=\"convertToInteractive('df-c01d754c-0270-4f63-9750-07ab4479955e')\"\n",
              "              title=\"Convert this dataframe to an interactive table.\"\n",
              "              style=\"display:none;\">\n",
              "        \n",
              "  <svg xmlns=\"http://www.w3.org/2000/svg\" height=\"24px\"viewBox=\"0 0 24 24\"\n",
              "       width=\"24px\">\n",
              "    <path d=\"M0 0h24v24H0V0z\" fill=\"none\"/>\n",
              "    <path d=\"M18.56 5.44l.94 2.06.94-2.06 2.06-.94-2.06-.94-.94-2.06-.94 2.06-2.06.94zm-11 1L8.5 8.5l.94-2.06 2.06-.94-2.06-.94L8.5 2.5l-.94 2.06-2.06.94zm10 10l.94 2.06.94-2.06 2.06-.94-2.06-.94-.94-2.06-.94 2.06-2.06.94z\"/><path d=\"M17.41 7.96l-1.37-1.37c-.4-.4-.92-.59-1.43-.59-.52 0-1.04.2-1.43.59L10.3 9.45l-7.72 7.72c-.78.78-.78 2.05 0 2.83L4 21.41c.39.39.9.59 1.41.59.51 0 1.02-.2 1.41-.59l7.78-7.78 2.81-2.81c.8-.78.8-2.07 0-2.86zM5.41 20L4 18.59l7.72-7.72 1.47 1.35L5.41 20z\"/>\n",
              "  </svg>\n",
              "      </button>\n",
              "      \n",
              "  <style>\n",
              "    .colab-df-container {\n",
              "      display:flex;\n",
              "      flex-wrap:wrap;\n",
              "      gap: 12px;\n",
              "    }\n",
              "\n",
              "    .colab-df-convert {\n",
              "      background-color: #E8F0FE;\n",
              "      border: none;\n",
              "      border-radius: 50%;\n",
              "      cursor: pointer;\n",
              "      display: none;\n",
              "      fill: #1967D2;\n",
              "      height: 32px;\n",
              "      padding: 0 0 0 0;\n",
              "      width: 32px;\n",
              "    }\n",
              "\n",
              "    .colab-df-convert:hover {\n",
              "      background-color: #E2EBFA;\n",
              "      box-shadow: 0px 1px 2px rgba(60, 64, 67, 0.3), 0px 1px 3px 1px rgba(60, 64, 67, 0.15);\n",
              "      fill: #174EA6;\n",
              "    }\n",
              "\n",
              "    [theme=dark] .colab-df-convert {\n",
              "      background-color: #3B4455;\n",
              "      fill: #D2E3FC;\n",
              "    }\n",
              "\n",
              "    [theme=dark] .colab-df-convert:hover {\n",
              "      background-color: #434B5C;\n",
              "      box-shadow: 0px 1px 3px 1px rgba(0, 0, 0, 0.15);\n",
              "      filter: drop-shadow(0px 1px 2px rgba(0, 0, 0, 0.3));\n",
              "      fill: #FFFFFF;\n",
              "    }\n",
              "  </style>\n",
              "\n",
              "      <script>\n",
              "        const buttonEl =\n",
              "          document.querySelector('#df-c01d754c-0270-4f63-9750-07ab4479955e button.colab-df-convert');\n",
              "        buttonEl.style.display =\n",
              "          google.colab.kernel.accessAllowed ? 'block' : 'none';\n",
              "\n",
              "        async function convertToInteractive(key) {\n",
              "          const element = document.querySelector('#df-c01d754c-0270-4f63-9750-07ab4479955e');\n",
              "          const dataTable =\n",
              "            await google.colab.kernel.invokeFunction('convertToInteractive',\n",
              "                                                     [key], {});\n",
              "          if (!dataTable) return;\n",
              "\n",
              "          const docLinkHtml = 'Like what you see? Visit the ' +\n",
              "            '<a target=\"_blank\" href=https://colab.research.google.com/notebooks/data_table.ipynb>data table notebook</a>'\n",
              "            + ' to learn more about interactive tables.';\n",
              "          element.innerHTML = '';\n",
              "          dataTable['output_type'] = 'display_data';\n",
              "          await google.colab.output.renderOutput(dataTable, element);\n",
              "          const docLink = document.createElement('div');\n",
              "          docLink.innerHTML = docLinkHtml;\n",
              "          element.appendChild(docLink);\n",
              "        }\n",
              "      </script>\n",
              "    </div>\n",
              "  </div>\n",
              "  "
            ]
          },
          "metadata": {},
          "execution_count": 175
        }
      ],
      "source": [
        "df.index = np.arange(1, len(df) + 1)\n",
        "df.head()"
      ]
    },
    {
      "cell_type": "code",
      "execution_count": null,
      "metadata": {
        "colab": {
          "base_uri": "https://localhost:8080/"
        },
        "id": "TaR40wFv8gdw",
        "outputId": "ce010eec-d004-43a3-806c-db9aec261356"
      },
      "outputs": [
        {
          "output_type": "execute_result",
          "data": {
            "text/plain": [
              "(42536, 151)"
            ]
          },
          "metadata": {},
          "execution_count": 176
        }
      ],
      "source": [
        "df.shape"
      ]
    },
    {
      "cell_type": "code",
      "source": [
        "df.id.nunique()"
      ],
      "metadata": {
        "colab": {
          "base_uri": "https://localhost:8080/"
        },
        "id": "OZn9vqhiZ3QD",
        "outputId": "e31b9a27-7ff6-4d3d-9cbd-b7bf8f507a4e"
      },
      "execution_count": null,
      "outputs": [
        {
          "output_type": "execute_result",
          "data": {
            "text/plain": [
              "42536"
            ]
          },
          "metadata": {},
          "execution_count": 177
        }
      ]
    },
    {
      "cell_type": "code",
      "execution_count": null,
      "metadata": {
        "colab": {
          "base_uri": "https://localhost:8080/"
        },
        "id": "WvP4mETc8gdx",
        "outputId": "1767ba7f-1fa6-42e5-bef0-1294cc3f4a7c"
      },
      "outputs": [
        {
          "output_type": "execute_result",
          "data": {
            "text/plain": [
              "member_id                100.000000\n",
              "loan_amnt                  0.002351\n",
              "funded_amnt                0.002351\n",
              "funded_amnt_inv            0.002351\n",
              "term                       0.002351\n",
              "                            ...    \n",
              "settlement_status         99.623848\n",
              "settlement_date           99.623848\n",
              "settlement_amount         99.623848\n",
              "settlement_percentage     99.623848\n",
              "settlement_term           99.623848\n",
              "Length: 150, dtype: float64"
            ]
          },
          "metadata": {},
          "execution_count": 178
        }
      ],
      "source": [
        "#sprawdzam procentowo liczbę nanów w pozostałych kolumnach\n",
        "a = 100*(df.isnull().sum()/len(df.index))\n",
        "a[a>0.000]"
      ]
    },
    {
      "cell_type": "markdown",
      "source": [
        "## Usunięcie kolumn"
      ],
      "metadata": {
        "id": "0ma0OHGAzDHG"
      }
    },
    {
      "cell_type": "code",
      "execution_count": null,
      "metadata": {
        "id": "7zGZNAiF8gdx"
      },
      "outputs": [],
      "source": [
        "# usuwam kolumny z informacjami z przyszłości\n",
        "df = df.drop([\n",
        "    'hardship_flag',\n",
        "    'hardship_type',\n",
        "    'hardship_reason',\n",
        "    'hardship_status',\n",
        "    'hardship_amount',\n",
        "    'hardship_start_date',\n",
        "    'hardship_end_date',\n",
        "    'payment_plan_start_date',\n",
        "    'hardship_length',\n",
        "    'hardship_dpd',\n",
        "    'hardship_loan_status',\n",
        "    'hardship_payoff_balance_amount',\n",
        "    'hardship_last_payment_amount',\n",
        "    'last_pymnt_d',\n",
        "    'last_pymnt_amnt',\n",
        "    'last_credit_pull_d',\n",
        "    'total_acc',\n",
        "    'total_pymnt',\n",
        "    'total_pymnt_inv',\n",
        "    'total_rec_int',\n",
        "    'total_rec_late_fee',\n",
        "    'total_rec_prncp',\n",
        "    'last_fico_range_high',\n",
        "    'last_fico_range_low',\n",
        "    'mths_since_last_delinq',\n",
        "    'recoveries',\n",
        "    'collection_recovery_fee',\n",
        "    'debt_settlement_flag',\n",
        "    'issue_d'], axis = 1)"
      ]
    },
    {
      "cell_type": "code",
      "source": [
        "# loan_status  target\n",
        "target = df['loan_status']"
      ],
      "metadata": {
        "id": "c4WJ794miMXO"
      },
      "execution_count": null,
      "outputs": []
    },
    {
      "cell_type": "code",
      "execution_count": null,
      "metadata": {
        "colab": {
          "base_uri": "https://localhost:8080/"
        },
        "id": "U-K9wfNy8gdy",
        "outputId": "f2a86470-a7fe-4455-da71-50c3b0feca26"
      },
      "outputs": [
        {
          "output_type": "execute_result",
          "data": {
            "text/plain": [
              "(42536, 122)"
            ]
          },
          "metadata": {},
          "execution_count": 181
        }
      ],
      "source": [
        "df.shape"
      ]
    },
    {
      "cell_type": "code",
      "execution_count": null,
      "metadata": {
        "colab": {
          "base_uri": "https://localhost:8080/"
        },
        "id": "l5sWofYp8gdy",
        "outputId": "cccb9d46-16e6-4c63-c47f-15871af5f1f0"
      },
      "outputs": [
        {
          "output_type": "execute_result",
          "data": {
            "text/plain": [
              "(42536, 44)"
            ]
          },
          "metadata": {},
          "execution_count": 182
        }
      ],
      "source": [
        "# usuwam kolumny, które mają więcej niż 35% brakujących danych \n",
        "df = df[[c for c in df if df[c].isnull().sum() < (42536*0.35)]] \n",
        "df.shape"
      ]
    },
    {
      "cell_type": "code",
      "execution_count": null,
      "metadata": {
        "id": "jFSpwU408gdz"
      },
      "outputs": [],
      "source": [
        "# usuwam kolumny ze zbędnymi informacjami\n",
        "#są 2 kolumny id - nie potrzebuję dwóch\n",
        "#zip_code - 3 pierwsze cyfry kodu nic nam nie mówią\n",
        "#url - nie potrzebujemy linku do strony LC z danymi aukcji.\n",
        "df = df.drop(['id', 'url', 'zip_code'], axis = 1)"
      ]
    },
    {
      "cell_type": "code",
      "execution_count": null,
      "metadata": {
        "id": "QcEbYfmp8gdz"
      },
      "outputs": [],
      "source": [
        "# wyszukanie kolumn z tylko jedną unikalną wartością\n",
        "#df.loc[:, df.nunique() == 1]"
      ]
    },
    {
      "cell_type": "code",
      "execution_count": null,
      "metadata": {
        "colab": {
          "base_uri": "https://localhost:8080/"
        },
        "id": "gf07C-d28gdz",
        "outputId": "6cea2223-aea3-41a1-e335-18cdfd3b8999"
      },
      "outputs": [
        {
          "output_type": "execute_result",
          "data": {
            "text/plain": [
              "(42536, 32)"
            ]
          },
          "metadata": {},
          "execution_count": 185
        }
      ],
      "source": [
        "# usuwam kolumny z tylko jedną unikalną wartością\n",
        "df = df.loc[:, df.nunique() != 1]\n",
        "df.shape"
      ]
    },
    {
      "cell_type": "code",
      "source": [
        "## sprawdzam emp_title"
      ],
      "metadata": {
        "id": "0gY768E6GjNa"
      },
      "execution_count": null,
      "outputs": []
    },
    {
      "cell_type": "code",
      "execution_count": null,
      "metadata": {
        "colab": {
          "base_uri": "https://localhost:8080/"
        },
        "id": "hPJg3Yhw8gd1",
        "outputId": "de638b71-fcd3-478e-af3f-b0f405f403a7"
      },
      "outputs": [
        {
          "output_type": "execute_result",
          "data": {
            "text/plain": [
              "30658"
            ]
          },
          "metadata": {},
          "execution_count": 190
        }
      ],
      "source": [
        "df.emp_title.nunique()"
      ]
    },
    {
      "cell_type": "code",
      "source": [
        "df.emp_title.head()"
      ],
      "metadata": {
        "colab": {
          "base_uri": "https://localhost:8080/"
        },
        "id": "HlEgfs9uGeUb",
        "outputId": "22031367-f737-4868-daba-247b4c7a8586"
      },
      "execution_count": null,
      "outputs": [
        {
          "output_type": "execute_result",
          "data": {
            "text/plain": [
              "1                         NaN\n",
              "2                       Ryder\n",
              "3                         NaN\n",
              "4         AIR RESOURCES BOARD\n",
              "5    University Medical Group\n",
              "Name: emp_title, dtype: object"
            ]
          },
          "metadata": {},
          "execution_count": 191
        }
      ]
    },
    {
      "cell_type": "code",
      "execution_count": null,
      "metadata": {
        "id": "690bkBoX8gd1"
      },
      "outputs": [],
      "source": [
        "df.drop(['emp_title'], axis = 1, inplace = True)"
      ]
    },
    {
      "cell_type": "code",
      "execution_count": null,
      "metadata": {
        "colab": {
          "base_uri": "https://localhost:8080/"
        },
        "id": "05eZnmGM8gd0",
        "outputId": "3830ed01-e954-40a7-82c3-5f9a17ddbf78"
      },
      "outputs": [
        {
          "output_type": "execute_result",
          "data": {
            "text/plain": [
              "loan_amnt                   1\n",
              "funded_amnt                 1\n",
              "funded_amnt_inv             1\n",
              "term                        1\n",
              "int_rate                    1\n",
              "installment                 1\n",
              "grade                       1\n",
              "sub_grade                   1\n",
              "emp_title                2627\n",
              "emp_length               1113\n",
              "home_ownership              1\n",
              "annual_inc                  5\n",
              "verification_status         1\n",
              "loan_status                 1\n",
              "desc                    13294\n",
              "purpose                     1\n",
              "title                      14\n",
              "addr_state                  1\n",
              "dti                         1\n",
              "delinq_2yrs                30\n",
              "earliest_cr_line           30\n",
              "fico_range_low              1\n",
              "fico_range_high             1\n",
              "inq_last_6mths             30\n",
              "open_acc                   30\n",
              "pub_rec                    30\n",
              "revol_bal                   1\n",
              "revol_util                 91\n",
              "acc_now_delinq             30\n",
              "delinq_amnt                30\n",
              "pub_rec_bankruptcies     1366\n",
              "tax_liens                 106\n",
              "dtype: int64"
            ]
          },
          "metadata": {},
          "execution_count": 186
        }
      ],
      "source": [
        "df.isnull().sum()"
      ]
    },
    {
      "cell_type": "markdown",
      "source": [
        "## Wypełnienie NaNów"
      ],
      "metadata": {
        "id": "CfubisXZzO58"
      }
    },
    {
      "cell_type": "code",
      "execution_count": null,
      "metadata": {
        "id": "CP_rrUDW8gd1"
      },
      "outputs": [],
      "source": [
        "#sprawdzam zawartości kolejnych kolumn, z dużą liczbą naanów - i albo usuwam kolumnę, albo uzupełniam"
      ]
    },
    {
      "cell_type": "code",
      "source": [
        "## wstawiam w kolumnie \"desc\" w miejsca naanów informację 'no_desc'\n",
        "df.desc = df.desc.fillna('no_desc')"
      ],
      "metadata": {
        "colab": {
          "base_uri": "https://localhost:8080/"
        },
        "id": "snj-emQ3lC92",
        "outputId": "6222ac7b-f2fc-40ed-cf17-d00438eca0a5"
      },
      "execution_count": null,
      "outputs": [
        {
          "output_type": "stream",
          "name": "stderr",
          "text": [
            "/usr/local/lib/python3.7/dist-packages/pandas/core/generic.py:5516: SettingWithCopyWarning: \n",
            "A value is trying to be set on a copy of a slice from a DataFrame.\n",
            "Try using .loc[row_indexer,col_indexer] = value instead\n",
            "\n",
            "See the caveats in the documentation: https://pandas.pydata.org/pandas-docs/stable/user_guide/indexing.html#returning-a-view-versus-a-copy\n",
            "  self[name] = value\n"
          ]
        }
      ]
    },
    {
      "cell_type": "code",
      "source": [
        "## sprawdzam pub_rec_bankruptcies"
      ],
      "metadata": {
        "id": "aRJOGuu84kCi"
      },
      "execution_count": null,
      "outputs": []
    },
    {
      "cell_type": "code",
      "execution_count": null,
      "metadata": {
        "colab": {
          "base_uri": "https://localhost:8080/"
        },
        "id": "pfZ35lRV8gd1",
        "outputId": "c42b9820-99e8-4864-87de-e0cb23845451"
      },
      "outputs": [
        {
          "output_type": "execute_result",
          "data": {
            "text/plain": [
              "1    0.0\n",
              "2    0.0\n",
              "3    0.0\n",
              "4    0.0\n",
              "5    0.0\n",
              "Name: pub_rec_bankruptcies, dtype: float64"
            ]
          },
          "metadata": {},
          "execution_count": 194
        }
      ],
      "source": [
        "df.pub_rec_bankruptcies.head()"
      ]
    },
    {
      "cell_type": "code",
      "source": [
        "df.pub_rec_bankruptcies.value_counts()"
      ],
      "metadata": {
        "colab": {
          "base_uri": "https://localhost:8080/"
        },
        "id": "nj8iJ0Y-sNxF",
        "outputId": "c22c038e-78ae-4901-f9eb-75cc76f77e67"
      },
      "execution_count": null,
      "outputs": [
        {
          "output_type": "execute_result",
          "data": {
            "text/plain": [
              "0.0    39316\n",
              "1.0     1846\n",
              "2.0        8\n",
              "Name: pub_rec_bankruptcies, dtype: int64"
            ]
          },
          "metadata": {},
          "execution_count": 195
        }
      ]
    },
    {
      "cell_type": "code",
      "execution_count": null,
      "metadata": {
        "colab": {
          "base_uri": "https://localhost:8080/",
          "height": 387
        },
        "id": "LHGOuG178gd2",
        "outputId": "f92defa5-638a-4676-8671-86d1dc2dd6f4"
      },
      "outputs": [
        {
          "output_type": "execute_result",
          "data": {
            "text/plain": [
              "<seaborn.axisgrid.FacetGrid at 0x7f4d9c670b90>"
            ]
          },
          "metadata": {},
          "execution_count": 196
        },
        {
          "output_type": "display_data",
          "data": {
            "text/plain": [
              "<Figure size 360x360 with 1 Axes>"
            ],
            "image/png": "[encoded data removed]"
          },
          "metadata": {
            "needs_background": "light"
          }
        }
      ],
      "source": [
        "# df.pub_rec_bankruptcies.plot()\n",
        "sns.catplot(x=\"pub_rec_bankruptcies\", kind=\"box\", data=df)"
      ]
    },
    {
      "cell_type": "code",
      "execution_count": null,
      "metadata": {
        "id": "uCG4OZeH8gd3"
      },
      "outputs": [],
      "source": [
        "df.pub_rec_bankruptcies.fillna(df.pub_rec_bankruptcies.mode()[0], inplace = True)\n",
        "#bez tego [0] komórki się nie uzupełniają"
      ]
    },
    {
      "cell_type": "markdown",
      "source": [
        "## Zmiana formatu danych emp_lenght, ograniczenie liczby różnych wartości w kolumnie title"
      ],
      "metadata": {
        "id": "ah720Bv6z7R4"
      }
    },
    {
      "cell_type": "code",
      "source": [
        "## sprawdzam emp_length"
      ],
      "metadata": {
        "id": "42wqJ3U74ntj"
      },
      "execution_count": null,
      "outputs": []
    },
    {
      "cell_type": "code",
      "execution_count": null,
      "metadata": {
        "colab": {
          "base_uri": "https://localhost:8080/"
        },
        "id": "IfF4pfMB8gd5",
        "outputId": "b122b063-147c-4d95-9435-79f92f7e9723"
      },
      "outputs": [
        {
          "output_type": "execute_result",
          "data": {
            "text/plain": [
              "10+ years    9369\n",
              "< 1 year     5062\n",
              "2 years      4743\n",
              "3 years      4364\n",
              "4 years      3649\n",
              "1 year       3595\n",
              "5 years      3458\n",
              "6 years      2375\n",
              "7 years      1875\n",
              "8 years      1592\n",
              "9 years      1341\n",
              "Name: emp_length, dtype: int64"
            ]
          },
          "metadata": {},
          "execution_count": 199
        }
      ],
      "source": [
        "df.emp_length.value_counts() "
      ]
    },
    {
      "cell_type": "code",
      "execution_count": null,
      "metadata": {
        "id": "Mzm3pthe8gd5"
      },
      "outputs": [],
      "source": [
        "## modyfikuję kolumnę emp_length tak by zawierała int\n",
        "## (zamiast \"10+years\" --> int(10))\n",
        "\n",
        "def leave_only_digits(rec):\n",
        "    new_rec = []\n",
        "    if type(rec) == float:\n",
        "        return rec\n",
        "    for char in rec:      \n",
        "        if char.isdigit():\n",
        "            new_rec.append(char)\n",
        "    return int(''.join(new_rec))    \n",
        "\n",
        "\n",
        "df['emp_length'] = df.emp_length.apply(leave_only_digits)"
      ]
    },
    {
      "cell_type": "code",
      "execution_count": null,
      "metadata": {
        "colab": {
          "base_uri": "https://localhost:8080/"
        },
        "id": "BYIIoMI88gd4",
        "outputId": "084c7850-7d26-4b80-8c12-88e8e115ff6d"
      },
      "outputs": [
        {
          "output_type": "execute_result",
          "data": {
            "text/plain": [
              "0    10.0\n",
              "dtype: float64"
            ]
          },
          "metadata": {},
          "execution_count": 201
        }
      ],
      "source": [
        "df.emp_length.mode()"
      ]
    },
    {
      "cell_type": "code",
      "execution_count": null,
      "metadata": {
        "id": "j7R7olTi8gd5"
      },
      "outputs": [],
      "source": [
        "df.emp_length.fillna(df.emp_length.mode()[0], inplace = True)"
      ]
    },
    {
      "cell_type": "code",
      "source": [
        "## sprawdzam kolumnę title"
      ],
      "metadata": {
        "id": "bUyWUp5F57jn"
      },
      "execution_count": null,
      "outputs": []
    },
    {
      "cell_type": "code",
      "execution_count": null,
      "metadata": {
        "colab": {
          "base_uri": "https://localhost:8080/"
        },
        "id": "rCN619pa8gd7",
        "outputId": "05dbc810-69b4-4985-8100-f71612b5cd49"
      },
      "outputs": [
        {
          "output_type": "execute_result",
          "data": {
            "text/plain": [
              "21264"
            ]
          },
          "metadata": {},
          "execution_count": 204
        }
      ],
      "source": [
        "df.title.nunique()"
      ]
    },
    {
      "cell_type": "code",
      "source": [
        "df.title.value_counts()"
      ],
      "metadata": {
        "colab": {
          "base_uri": "https://localhost:8080/"
        },
        "id": "DIbpo0_k7h8h",
        "outputId": "7627efc9-1192-44d2-b5ba-25a7ecbb7835"
      },
      "execution_count": null,
      "outputs": [
        {
          "output_type": "execute_result",
          "data": {
            "text/plain": [
              "Debt Consolidation                  2259\n",
              "Debt Consolidation Loan             1760\n",
              "Personal Loan                        708\n",
              "Consolidation                        547\n",
              "debt consolidation                   532\n",
              "                                    ... \n",
              "CitiCard PayOff                        1\n",
              "Taxes Loan                             1\n",
              "Blazing in 5 years                     1\n",
              "I was scammed and now recovering       1\n",
              "Aroundthehouse                         1\n",
              "Name: title, Length: 21264, dtype: int64"
            ]
          },
          "metadata": {},
          "execution_count": 205
        }
      ]
    },
    {
      "cell_type": "code",
      "source": [
        "# uwspólniam nazwy wszystkich rekordów zawierających słówko \"consolidation\"\n",
        "mask = df['title'].str.contains(pat = 'onsolidation', na=True)\n",
        "df.loc[mask, 'title'] = 'consolidation'"
      ],
      "metadata": {
        "id": "HyaKqXrVsV5f"
      },
      "execution_count": null,
      "outputs": []
    },
    {
      "cell_type": "code",
      "execution_count": null,
      "metadata": {
        "id": "tUnFFL1m8gd8"
      },
      "outputs": [],
      "source": [
        "# modyfikuję kolumnę title   1 - konsolidacja długu, 0 - wszystkie inne\n",
        "def change_value(rec):\n",
        "    if rec == 'consolidation':\n",
        "      rec = 1\n",
        "    else:\n",
        "       rec = 0\n",
        "    return rec\n",
        "      \n",
        "df['title'] = df.title.apply(change_value)\n"
      ]
    },
    {
      "cell_type": "code",
      "source": [
        "df.title.value_counts()\n",
        "# 1 - konsolidacja długu, 0 - wszystkie inne"
      ],
      "metadata": {
        "colab": {
          "base_uri": "https://localhost:8080/"
        },
        "id": "5-Q2GpatIn97",
        "outputId": "e2ce9873-b833-4113-de89-d28174c749a6"
      },
      "execution_count": null,
      "outputs": [
        {
          "output_type": "execute_result",
          "data": {
            "text/plain": [
              "0    33443\n",
              "1     9093\n",
              "Name: title, dtype: int64"
            ]
          },
          "metadata": {},
          "execution_count": 208
        }
      ]
    },
    {
      "cell_type": "code",
      "execution_count": null,
      "metadata": {
        "colab": {
          "base_uri": "https://localhost:8080/"
        },
        "id": "liNH4oGJ8gd8",
        "outputId": "6b009994-a208-4d84-b5d9-a7d5e7fa5825"
      },
      "outputs": [
        {
          "output_type": "execute_result",
          "data": {
            "text/plain": [
              "(42536, 31)"
            ]
          },
          "metadata": {},
          "execution_count": 209
        }
      ],
      "source": [
        "df.shape"
      ]
    },
    {
      "cell_type": "code",
      "execution_count": null,
      "metadata": {
        "colab": {
          "base_uri": "https://localhost:8080/"
        },
        "id": "hRc7uwTS8geC",
        "outputId": "71075a38-491e-4834-d016-2b065be6d9c9"
      },
      "outputs": [
        {
          "output_type": "execute_result",
          "data": {
            "text/plain": [
              "loan_amnt                 1\n",
              "funded_amnt               1\n",
              "funded_amnt_inv           1\n",
              "term                      1\n",
              "int_rate                  1\n",
              "installment               1\n",
              "grade                     1\n",
              "sub_grade                 1\n",
              "emp_length                0\n",
              "home_ownership            1\n",
              "annual_inc                5\n",
              "verification_status       1\n",
              "loan_status               1\n",
              "desc                      0\n",
              "purpose                   1\n",
              "title                     0\n",
              "addr_state                1\n",
              "dti                       1\n",
              "delinq_2yrs              30\n",
              "earliest_cr_line         30\n",
              "fico_range_low            1\n",
              "fico_range_high           1\n",
              "inq_last_6mths           30\n",
              "open_acc                 30\n",
              "pub_rec                  30\n",
              "revol_bal                 1\n",
              "revol_util               91\n",
              "acc_now_delinq           30\n",
              "delinq_amnt              30\n",
              "pub_rec_bankruptcies      0\n",
              "tax_liens               106\n",
              "dtype: int64"
            ]
          },
          "metadata": {},
          "execution_count": 210
        }
      ],
      "source": [
        "df.isna().sum()"
      ]
    },
    {
      "cell_type": "markdown",
      "source": [
        "## Usunięcie rekordów zawierających NaNy"
      ],
      "metadata": {
        "id": "YNIvkvJJ0G9_"
      }
    },
    {
      "cell_type": "code",
      "execution_count": null,
      "metadata": {
        "id": "qM1El3W78geD"
      },
      "outputs": [],
      "source": [
        "# usuwam rekordy, które mają nany \n",
        "df.dropna(axis = 0, how = 'any', inplace = True)"
      ]
    },
    {
      "cell_type": "code",
      "source": [
        "df.shape"
      ],
      "metadata": {
        "colab": {
          "base_uri": "https://localhost:8080/"
        },
        "id": "8OJ1rq0KPHdl",
        "outputId": "b8c5f97b-2480-42e4-e472-764ac2fb32d3"
      },
      "execution_count": null,
      "outputs": [
        {
          "output_type": "execute_result",
          "data": {
            "text/plain": [
              "(42370, 31)"
            ]
          },
          "metadata": {},
          "execution_count": 212
        }
      ]
    },
    {
      "cell_type": "markdown",
      "source": [
        "## Sprawdzenie jak wygąda baza na tym etapie, dalsza modyfikacja"
      ],
      "metadata": {
        "id": "r2qkUy920ZZQ"
      }
    },
    {
      "cell_type": "code",
      "source": [
        "# sprawdzam jak teraz wygląda baza i co jeszcze wymaga modyfikacji\n",
        "df.columns"
      ],
      "metadata": {
        "colab": {
          "base_uri": "https://localhost:8080/"
        },
        "id": "olqUeWxqKk13",
        "outputId": "3f6bd9e0-969a-4169-b422-81d904373bf4"
      },
      "execution_count": null,
      "outputs": [
        {
          "output_type": "execute_result",
          "data": {
            "text/plain": [
              "Index(['loan_amnt', 'funded_amnt', 'funded_amnt_inv', 'term', 'int_rate',\n",
              "       'installment', 'grade', 'sub_grade', 'emp_length', 'home_ownership',\n",
              "       'annual_inc', 'verification_status', 'loan_status', 'desc', 'purpose',\n",
              "       'title', 'addr_state', 'dti', 'delinq_2yrs', 'earliest_cr_line',\n",
              "       'fico_range_low', 'fico_range_high', 'inq_last_6mths', 'open_acc',\n",
              "       'pub_rec', 'revol_bal', 'revol_util', 'acc_now_delinq', 'delinq_amnt',\n",
              "       'pub_rec_bankruptcies', 'tax_liens'],\n",
              "      dtype='object')"
            ]
          },
          "metadata": {},
          "execution_count": 213
        }
      ]
    },
    {
      "cell_type": "code",
      "source": [
        "df.loc[0:5,'loan_amnt':'home_ownership'].head(3)"
      ],
      "metadata": {
        "colab": {
          "base_uri": "https://localhost:8080/",
          "height": 143
        },
        "id": "uR1JqNNYQ51V",
        "outputId": "5a03f1a4-7387-43f6-bdf5-cd4f040f6910"
      },
      "execution_count": null,
      "outputs": [
        {
          "output_type": "execute_result",
          "data": {
            "text/plain": [
              "   loan_amnt  funded_amnt  funded_amnt_inv        term int_rate  installment  \\\n",
              "1     5000.0       5000.0           4975.0   36 months   10.65%       162.87   \n",
              "2     2500.0       2500.0           2500.0   60 months   15.27%        59.83   \n",
              "3     2400.0       2400.0           2400.0   36 months   15.96%        84.33   \n",
              "\n",
              "  grade sub_grade  emp_length home_ownership  \n",
              "1     B        B2        10.0           RENT  \n",
              "2     C        C4         1.0           RENT  \n",
              "3     C        C5        10.0           RENT  "
            ],
            "text/html": [
              "\n",
              "  <div id=\"df-3b336d9f-1fea-4a6a-84ba-c8df9bf532dc\">\n",
              "    <div class=\"colab-df-container\">\n",
              "      <div>\n",
              "<style scoped>\n",
              "    .dataframe tbody tr th:only-of-type {\n",
              "        vertical-align: middle;\n",
              "    }\n",
              "\n",
              "    .dataframe tbody tr th {\n",
              "        vertical-align: top;\n",
              "    }\n",
              "\n",
              "    .dataframe thead th {\n",
              "        text-align: right;\n",
              "    }\n",
              "</style>\n",
              "<table border=\"1\" class=\"dataframe\">\n",
              "  <thead>\n",
              "    <tr style=\"text-align: right;\">\n",
              "      <th></th>\n",
              "      <th>loan_amnt</th>\n",
              "      <th>funded_amnt</th>\n",
              "      <th>funded_amnt_inv</th>\n",
              "      <th>term</th>\n",
              "      <th>int_rate</th>\n",
              "      <th>installment</th>\n",
              "      <th>grade</th>\n",
              "      <th>sub_grade</th>\n",
              "      <th>emp_length</th>\n",
              "      <th>home_ownership</th>\n",
              "    </tr>\n",
              "  </thead>\n",
              "  <tbody>\n",
              "    <tr>\n",
              "      <th>1</th>\n",
              "      <td>5000.0</td>\n",
              "      <td>5000.0</td>\n",
              "      <td>4975.0</td>\n",
              "      <td>36 months</td>\n",
              "      <td>10.65%</td>\n",
              "      <td>162.87</td>\n",
              "      <td>B</td>\n",
              "      <td>B2</td>\n",
              "      <td>10.0</td>\n",
              "      <td>RENT</td>\n",
              "    </tr>\n",
              "    <tr>\n",
              "      <th>2</th>\n",
              "      <td>2500.0</td>\n",
              "      <td>2500.0</td>\n",
              "      <td>2500.0</td>\n",
              "      <td>60 months</td>\n",
              "      <td>15.27%</td>\n",
              "      <td>59.83</td>\n",
              "      <td>C</td>\n",
              "      <td>C4</td>\n",
              "      <td>1.0</td>\n",
              "      <td>RENT</td>\n",
              "    </tr>\n",
              "    <tr>\n",
              "      <th>3</th>\n",
              "      <td>2400.0</td>\n",
              "      <td>2400.0</td>\n",
              "      <td>2400.0</td>\n",
              "      <td>36 months</td>\n",
              "      <td>15.96%</td>\n",
              "      <td>84.33</td>\n",
              "      <td>C</td>\n",
              "      <td>C5</td>\n",
              "      <td>10.0</td>\n",
              "      <td>RENT</td>\n",
              "    </tr>\n",
              "  </tbody>\n",
              "</table>\n",
              "</div>\n",
              "      <button class=\"colab-df-convert\" onclick=\"convertToInteractive('df-3b336d9f-1fea-4a6a-84ba-c8df9bf532dc')\"\n",
              "              title=\"Convert this dataframe to an interactive table.\"\n",
              "              style=\"display:none;\">\n",
              "        \n",
              "  <svg xmlns=\"http://www.w3.org/2000/svg\" height=\"24px\"viewBox=\"0 0 24 24\"\n",
              "       width=\"24px\">\n",
              "    <path d=\"M0 0h24v24H0V0z\" fill=\"none\"/>\n",
              "    <path d=\"M18.56 5.44l.94 2.06.94-2.06 2.06-.94-2.06-.94-.94-2.06-.94 2.06-2.06.94zm-11 1L8.5 8.5l.94-2.06 2.06-.94-2.06-.94L8.5 2.5l-.94 2.06-2.06.94zm10 10l.94 2.06.94-2.06 2.06-.94-2.06-.94-.94-2.06-.94 2.06-2.06.94z\"/><path d=\"M17.41 7.96l-1.37-1.37c-.4-.4-.92-.59-1.43-.59-.52 0-1.04.2-1.43.59L10.3 9.45l-7.72 7.72c-.78.78-.78 2.05 0 2.83L4 21.41c.39.39.9.59 1.41.59.51 0 1.02-.2 1.41-.59l7.78-7.78 2.81-2.81c.8-.78.8-2.07 0-2.86zM5.41 20L4 18.59l7.72-7.72 1.47 1.35L5.41 20z\"/>\n",
              "  </svg>\n",
              "      </button>\n",
              "      \n",
              "  <style>\n",
              "    .colab-df-container {\n",
              "      display:flex;\n",
              "      flex-wrap:wrap;\n",
              "      gap: 12px;\n",
              "    }\n",
              "\n",
              "    .colab-df-convert {\n",
              "      background-color: #E8F0FE;\n",
              "      border: none;\n",
              "      border-radius: 50%;\n",
              "      cursor: pointer;\n",
              "      display: none;\n",
              "      fill: #1967D2;\n",
              "      height: 32px;\n",
              "      padding: 0 0 0 0;\n",
              "      width: 32px;\n",
              "    }\n",
              "\n",
              "    .colab-df-convert:hover {\n",
              "      background-color: #E2EBFA;\n",
              "      box-shadow: 0px 1px 2px rgba(60, 64, 67, 0.3), 0px 1px 3px 1px rgba(60, 64, 67, 0.15);\n",
              "      fill: #174EA6;\n",
              "    }\n",
              "\n",
              "    [theme=dark] .colab-df-convert {\n",
              "      background-color: #3B4455;\n",
              "      fill: #D2E3FC;\n",
              "    }\n",
              "\n",
              "    [theme=dark] .colab-df-convert:hover {\n",
              "      background-color: #434B5C;\n",
              "      box-shadow: 0px 1px 3px 1px rgba(0, 0, 0, 0.15);\n",
              "      filter: drop-shadow(0px 1px 2px rgba(0, 0, 0, 0.3));\n",
              "      fill: #FFFFFF;\n",
              "    }\n",
              "  </style>\n",
              "\n",
              "      <script>\n",
              "        const buttonEl =\n",
              "          document.querySelector('#df-3b336d9f-1fea-4a6a-84ba-c8df9bf532dc button.colab-df-convert');\n",
              "        buttonEl.style.display =\n",
              "          google.colab.kernel.accessAllowed ? 'block' : 'none';\n",
              "\n",
              "        async function convertToInteractive(key) {\n",
              "          const element = document.querySelector('#df-3b336d9f-1fea-4a6a-84ba-c8df9bf532dc');\n",
              "          const dataTable =\n",
              "            await google.colab.kernel.invokeFunction('convertToInteractive',\n",
              "                                                     [key], {});\n",
              "          if (!dataTable) return;\n",
              "\n",
              "          const docLinkHtml = 'Like what you see? Visit the ' +\n",
              "            '<a target=\"_blank\" href=https://colab.research.google.com/notebooks/data_table.ipynb>data table notebook</a>'\n",
              "            + ' to learn more about interactive tables.';\n",
              "          element.innerHTML = '';\n",
              "          dataTable['output_type'] = 'display_data';\n",
              "          await google.colab.output.renderOutput(dataTable, element);\n",
              "          const docLink = document.createElement('div');\n",
              "          docLink.innerHTML = docLinkHtml;\n",
              "          element.appendChild(docLink);\n",
              "        }\n",
              "      </script>\n",
              "    </div>\n",
              "  </div>\n",
              "  "
            ]
          },
          "metadata": {},
          "execution_count": 214
        }
      ]
    },
    {
      "cell_type": "code",
      "source": [
        "# modyfikuję wartości w kolumnie term, by były samymi int\n",
        "df['term'] = df.term.apply(leave_only_digits)"
      ],
      "metadata": {
        "id": "lUmFygI4Iueq"
      },
      "execution_count": null,
      "outputs": []
    },
    {
      "cell_type": "code",
      "source": [
        "# usuwam % z kolumny int_rate i zmieniam typ na float\n",
        "df['int_rate'] = df['int_rate'].str.rstrip(\"%\").astype(float) "
      ],
      "metadata": {
        "id": "Kj7pw7wGI8PD"
      },
      "execution_count": null,
      "outputs": []
    },
    {
      "cell_type": "code",
      "source": [
        "# zmieniam nazwę tej kolumny by było wiadomo, że dane są podane w procentach\n",
        "df.rename(columns={'int_rate':'int_rate_in_percent'}, inplace = True)"
      ],
      "metadata": {
        "id": "-oEjnKTEXK9l"
      },
      "execution_count": null,
      "outputs": []
    },
    {
      "cell_type": "code",
      "source": [
        "# sprawdzam korelację dwóch kolumn, które zgodnie z opisem zawierają zbieżne dane\n",
        "df.funded_amnt.corr(df.funded_amnt_inv)"
      ],
      "metadata": {
        "colab": {
          "base_uri": "https://localhost:8080/"
        },
        "id": "Tx3WqgnGX4Ah",
        "outputId": "8aba48b2-5be2-46f4-8bb7-90d32f348764"
      },
      "execution_count": null,
      "outputs": [
        {
          "output_type": "execute_result",
          "data": {
            "text/plain": [
              "0.9480690307567036"
            ]
          },
          "metadata": {},
          "execution_count": 218
        }
      ]
    },
    {
      "cell_type": "code",
      "source": [
        "df.drop(['funded_amnt_inv'], axis = 1, inplace = True)"
      ],
      "metadata": {
        "id": "UVrJCie8YBk2"
      },
      "execution_count": null,
      "outputs": []
    },
    {
      "cell_type": "code",
      "source": [
        "df.loc[0:5,'annual_inc':'fico_range_low'].head(3)"
      ],
      "metadata": {
        "id": "qiIsOSXCKnoY",
        "colab": {
          "base_uri": "https://localhost:8080/",
          "height": 222
        },
        "outputId": "4f41dd8b-3cfa-4571-b612-ad5a49c03b1c"
      },
      "execution_count": null,
      "outputs": [
        {
          "output_type": "execute_result",
          "data": {
            "text/plain": [
              "   annual_inc verification_status  loan_status  \\\n",
              "1     24000.0            Verified   Fully Paid   \n",
              "2     30000.0     Source Verified  Charged Off   \n",
              "3     12252.0        Not Verified   Fully Paid   \n",
              "\n",
              "                                                desc         purpose  title  \\\n",
              "1    Borrower added on 12/22/11 > I need to upgra...     credit_card      0   \n",
              "2    Borrower added on 12/22/11 > I plan to use t...             car      0   \n",
              "3                                            no_desc  small_business      0   \n",
              "\n",
              "  addr_state    dti  delinq_2yrs earliest_cr_line  fico_range_low  \n",
              "1         AZ  27.65          0.0         Jan-1985           735.0  \n",
              "2         GA   1.00          0.0         Apr-1999           740.0  \n",
              "3         IL   8.72          0.0         Nov-2001           735.0  "
            ],
            "text/html": [
              "\n",
              "  <div id=\"df-b67fb503-5a50-480a-92e0-f99ed9e22209\">\n",
              "    <div class=\"colab-df-container\">\n",
              "      <div>\n",
              "<style scoped>\n",
              "    .dataframe tbody tr th:only-of-type {\n",
              "        vertical-align: middle;\n",
              "    }\n",
              "\n",
              "    .dataframe tbody tr th {\n",
              "        vertical-align: top;\n",
              "    }\n",
              "\n",
              "    .dataframe thead th {\n",
              "        text-align: right;\n",
              "    }\n",
              "</style>\n",
              "<table border=\"1\" class=\"dataframe\">\n",
              "  <thead>\n",
              "    <tr style=\"text-align: right;\">\n",
              "      <th></th>\n",
              "      <th>annual_inc</th>\n",
              "      <th>verification_status</th>\n",
              "      <th>loan_status</th>\n",
              "      <th>desc</th>\n",
              "      <th>purpose</th>\n",
              "      <th>title</th>\n",
              "      <th>addr_state</th>\n",
              "      <th>dti</th>\n",
              "      <th>delinq_2yrs</th>\n",
              "      <th>earliest_cr_line</th>\n",
              "      <th>fico_range_low</th>\n",
              "    </tr>\n",
              "  </thead>\n",
              "  <tbody>\n",
              "    <tr>\n",
              "      <th>1</th>\n",
              "      <td>24000.0</td>\n",
              "      <td>Verified</td>\n",
              "      <td>Fully Paid</td>\n",
              "      <td>Borrower added on 12/22/11 &gt; I need to upgra...</td>\n",
              "      <td>credit_card</td>\n",
              "      <td>0</td>\n",
              "      <td>AZ</td>\n",
              "      <td>27.65</td>\n",
              "      <td>0.0</td>\n",
              "      <td>Jan-1985</td>\n",
              "      <td>735.0</td>\n",
              "    </tr>\n",
              "    <tr>\n",
              "      <th>2</th>\n",
              "      <td>30000.0</td>\n",
              "      <td>Source Verified</td>\n",
              "      <td>Charged Off</td>\n",
              "      <td>Borrower added on 12/22/11 &gt; I plan to use t...</td>\n",
              "      <td>car</td>\n",
              "      <td>0</td>\n",
              "      <td>GA</td>\n",
              "      <td>1.00</td>\n",
              "      <td>0.0</td>\n",
              "      <td>Apr-1999</td>\n",
              "      <td>740.0</td>\n",
              "    </tr>\n",
              "    <tr>\n",
              "      <th>3</th>\n",
              "      <td>12252.0</td>\n",
              "      <td>Not Verified</td>\n",
              "      <td>Fully Paid</td>\n",
              "      <td>no_desc</td>\n",
              "      <td>small_business</td>\n",
              "      <td>0</td>\n",
              "      <td>IL</td>\n",
              "      <td>8.72</td>\n",
              "      <td>0.0</td>\n",
              "      <td>Nov-2001</td>\n",
              "      <td>735.0</td>\n",
              "    </tr>\n",
              "  </tbody>\n",
              "</table>\n",
              "</div>\n",
              "      <button class=\"colab-df-convert\" onclick=\"convertToInteractive('df-b67fb503-5a50-480a-92e0-f99ed9e22209')\"\n",
              "              title=\"Convert this dataframe to an interactive table.\"\n",
              "              style=\"display:none;\">\n",
              "        \n",
              "  <svg xmlns=\"http://www.w3.org/2000/svg\" height=\"24px\"viewBox=\"0 0 24 24\"\n",
              "       width=\"24px\">\n",
              "    <path d=\"M0 0h24v24H0V0z\" fill=\"none\"/>\n",
              "    <path d=\"M18.56 5.44l.94 2.06.94-2.06 2.06-.94-2.06-.94-.94-2.06-.94 2.06-2.06.94zm-11 1L8.5 8.5l.94-2.06 2.06-.94-2.06-.94L8.5 2.5l-.94 2.06-2.06.94zm10 10l.94 2.06.94-2.06 2.06-.94-2.06-.94-.94-2.06-.94 2.06-2.06.94z\"/><path d=\"M17.41 7.96l-1.37-1.37c-.4-.4-.92-.59-1.43-.59-.52 0-1.04.2-1.43.59L10.3 9.45l-7.72 7.72c-.78.78-.78 2.05 0 2.83L4 21.41c.39.39.9.59 1.41.59.51 0 1.02-.2 1.41-.59l7.78-7.78 2.81-2.81c.8-.78.8-2.07 0-2.86zM5.41 20L4 18.59l7.72-7.72 1.47 1.35L5.41 20z\"/>\n",
              "  </svg>\n",
              "      </button>\n",
              "      \n",
              "  <style>\n",
              "    .colab-df-container {\n",
              "      display:flex;\n",
              "      flex-wrap:wrap;\n",
              "      gap: 12px;\n",
              "    }\n",
              "\n",
              "    .colab-df-convert {\n",
              "      background-color: #E8F0FE;\n",
              "      border: none;\n",
              "      border-radius: 50%;\n",
              "      cursor: pointer;\n",
              "      display: none;\n",
              "      fill: #1967D2;\n",
              "      height: 32px;\n",
              "      padding: 0 0 0 0;\n",
              "      width: 32px;\n",
              "    }\n",
              "\n",
              "    .colab-df-convert:hover {\n",
              "      background-color: #E2EBFA;\n",
              "      box-shadow: 0px 1px 2px rgba(60, 64, 67, 0.3), 0px 1px 3px 1px rgba(60, 64, 67, 0.15);\n",
              "      fill: #174EA6;\n",
              "    }\n",
              "\n",
              "    [theme=dark] .colab-df-convert {\n",
              "      background-color: #3B4455;\n",
              "      fill: #D2E3FC;\n",
              "    }\n",
              "\n",
              "    [theme=dark] .colab-df-convert:hover {\n",
              "      background-color: #434B5C;\n",
              "      box-shadow: 0px 1px 3px 1px rgba(0, 0, 0, 0.15);\n",
              "      filter: drop-shadow(0px 1px 2px rgba(0, 0, 0, 0.3));\n",
              "      fill: #FFFFFF;\n",
              "    }\n",
              "  </style>\n",
              "\n",
              "      <script>\n",
              "        const buttonEl =\n",
              "          document.querySelector('#df-b67fb503-5a50-480a-92e0-f99ed9e22209 button.colab-df-convert');\n",
              "        buttonEl.style.display =\n",
              "          google.colab.kernel.accessAllowed ? 'block' : 'none';\n",
              "\n",
              "        async function convertToInteractive(key) {\n",
              "          const element = document.querySelector('#df-b67fb503-5a50-480a-92e0-f99ed9e22209');\n",
              "          const dataTable =\n",
              "            await google.colab.kernel.invokeFunction('convertToInteractive',\n",
              "                                                     [key], {});\n",
              "          if (!dataTable) return;\n",
              "\n",
              "          const docLinkHtml = 'Like what you see? Visit the ' +\n",
              "            '<a target=\"_blank\" href=https://colab.research.google.com/notebooks/data_table.ipynb>data table notebook</a>'\n",
              "            + ' to learn more about interactive tables.';\n",
              "          element.innerHTML = '';\n",
              "          dataTable['output_type'] = 'display_data';\n",
              "          await google.colab.output.renderOutput(dataTable, element);\n",
              "          const docLink = document.createElement('div');\n",
              "          docLink.innerHTML = docLinkHtml;\n",
              "          element.appendChild(docLink);\n",
              "        }\n",
              "      </script>\n",
              "    </div>\n",
              "  </div>\n",
              "  "
            ]
          },
          "metadata": {},
          "execution_count": 220
        }
      ]
    },
    {
      "cell_type": "code",
      "source": [
        "# zmieniam tytuł \"title\" na bardziej informacyjny\n",
        "df.rename(columns={'title':'title(consolidation/not)'}, inplace = True)"
      ],
      "metadata": {
        "id": "Edj10usZS2dD"
      },
      "execution_count": null,
      "outputs": []
    },
    {
      "cell_type": "code",
      "source": [
        "# zmieniam format danych w kolumnie .earliest_cr_line z object na datetime\n",
        "df.earliest_cr_line = pd.to_datetime(df['earliest_cr_line'], format='%b-%Y')"
      ],
      "metadata": {
        "id": "dtpK9vjEL-n7"
      },
      "execution_count": null,
      "outputs": []
    },
    {
      "cell_type": "code",
      "source": [
        "df.earliest_cr_line.dtypes"
      ],
      "metadata": {
        "colab": {
          "base_uri": "https://localhost:8080/"
        },
        "id": "zISxprekMCx0",
        "outputId": "d43cb2c4-4b8a-4e12-d548-cede6049132b"
      },
      "execution_count": null,
      "outputs": [
        {
          "output_type": "execute_result",
          "data": {
            "text/plain": [
              "dtype('<M8[ns]')"
            ]
          },
          "metadata": {},
          "execution_count": 223
        }
      ]
    },
    {
      "cell_type": "code",
      "source": [
        "df.loc[0:5,'fico_range_high':'tax_liens'].head(3)"
      ],
      "metadata": {
        "colab": {
          "base_uri": "https://localhost:8080/",
          "height": 143
        },
        "id": "yheRw3X4MRPu",
        "outputId": "d26f4468-dc70-40a5-e076-c989fc5199c6"
      },
      "execution_count": null,
      "outputs": [
        {
          "output_type": "execute_result",
          "data": {
            "text/plain": [
              "   fico_range_high  inq_last_6mths  open_acc  pub_rec  revol_bal revol_util  \\\n",
              "1            739.0             1.0       3.0      0.0    13648.0      83.7%   \n",
              "2            744.0             5.0       3.0      0.0     1687.0       9.4%   \n",
              "3            739.0             2.0       2.0      0.0     2956.0      98.5%   \n",
              "\n",
              "   acc_now_delinq  delinq_amnt  pub_rec_bankruptcies  tax_liens  \n",
              "1             0.0          0.0                   0.0        0.0  \n",
              "2             0.0          0.0                   0.0        0.0  \n",
              "3             0.0          0.0                   0.0        0.0  "
            ],
            "text/html": [
              "\n",
              "  <div id=\"df-9e89c6ad-6b53-4d07-850a-18213669809b\">\n",
              "    <div class=\"colab-df-container\">\n",
              "      <div>\n",
              "<style scoped>\n",
              "    .dataframe tbody tr th:only-of-type {\n",
              "        vertical-align: middle;\n",
              "    }\n",
              "\n",
              "    .dataframe tbody tr th {\n",
              "        vertical-align: top;\n",
              "    }\n",
              "\n",
              "    .dataframe thead th {\n",
              "        text-align: right;\n",
              "    }\n",
              "</style>\n",
              "<table border=\"1\" class=\"dataframe\">\n",
              "  <thead>\n",
              "    <tr style=\"text-align: right;\">\n",
              "      <th></th>\n",
              "      <th>fico_range_high</th>\n",
              "      <th>inq_last_6mths</th>\n",
              "      <th>open_acc</th>\n",
              "      <th>pub_rec</th>\n",
              "      <th>revol_bal</th>\n",
              "      <th>revol_util</th>\n",
              "      <th>acc_now_delinq</th>\n",
              "      <th>delinq_amnt</th>\n",
              "      <th>pub_rec_bankruptcies</th>\n",
              "      <th>tax_liens</th>\n",
              "    </tr>\n",
              "  </thead>\n",
              "  <tbody>\n",
              "    <tr>\n",
              "      <th>1</th>\n",
              "      <td>739.0</td>\n",
              "      <td>1.0</td>\n",
              "      <td>3.0</td>\n",
              "      <td>0.0</td>\n",
              "      <td>13648.0</td>\n",
              "      <td>83.7%</td>\n",
              "      <td>0.0</td>\n",
              "      <td>0.0</td>\n",
              "      <td>0.0</td>\n",
              "      <td>0.0</td>\n",
              "    </tr>\n",
              "    <tr>\n",
              "      <th>2</th>\n",
              "      <td>744.0</td>\n",
              "      <td>5.0</td>\n",
              "      <td>3.0</td>\n",
              "      <td>0.0</td>\n",
              "      <td>1687.0</td>\n",
              "      <td>9.4%</td>\n",
              "      <td>0.0</td>\n",
              "      <td>0.0</td>\n",
              "      <td>0.0</td>\n",
              "      <td>0.0</td>\n",
              "    </tr>\n",
              "    <tr>\n",
              "      <th>3</th>\n",
              "      <td>739.0</td>\n",
              "      <td>2.0</td>\n",
              "      <td>2.0</td>\n",
              "      <td>0.0</td>\n",
              "      <td>2956.0</td>\n",
              "      <td>98.5%</td>\n",
              "      <td>0.0</td>\n",
              "      <td>0.0</td>\n",
              "      <td>0.0</td>\n",
              "      <td>0.0</td>\n",
              "    </tr>\n",
              "  </tbody>\n",
              "</table>\n",
              "</div>\n",
              "      <button class=\"colab-df-convert\" onclick=\"convertToInteractive('df-9e89c6ad-6b53-4d07-850a-18213669809b')\"\n",
              "              title=\"Convert this dataframe to an interactive table.\"\n",
              "              style=\"display:none;\">\n",
              "        \n",
              "  <svg xmlns=\"http://www.w3.org/2000/svg\" height=\"24px\"viewBox=\"0 0 24 24\"\n",
              "       width=\"24px\">\n",
              "    <path d=\"M0 0h24v24H0V0z\" fill=\"none\"/>\n",
              "    <path d=\"M18.56 5.44l.94 2.06.94-2.06 2.06-.94-2.06-.94-.94-2.06-.94 2.06-2.06.94zm-11 1L8.5 8.5l.94-2.06 2.06-.94-2.06-.94L8.5 2.5l-.94 2.06-2.06.94zm10 10l.94 2.06.94-2.06 2.06-.94-2.06-.94-.94-2.06-.94 2.06-2.06.94z\"/><path d=\"M17.41 7.96l-1.37-1.37c-.4-.4-.92-.59-1.43-.59-.52 0-1.04.2-1.43.59L10.3 9.45l-7.72 7.72c-.78.78-.78 2.05 0 2.83L4 21.41c.39.39.9.59 1.41.59.51 0 1.02-.2 1.41-.59l7.78-7.78 2.81-2.81c.8-.78.8-2.07 0-2.86zM5.41 20L4 18.59l7.72-7.72 1.47 1.35L5.41 20z\"/>\n",
              "  </svg>\n",
              "      </button>\n",
              "      \n",
              "  <style>\n",
              "    .colab-df-container {\n",
              "      display:flex;\n",
              "      flex-wrap:wrap;\n",
              "      gap: 12px;\n",
              "    }\n",
              "\n",
              "    .colab-df-convert {\n",
              "      background-color: #E8F0FE;\n",
              "      border: none;\n",
              "      border-radius: 50%;\n",
              "      cursor: pointer;\n",
              "      display: none;\n",
              "      fill: #1967D2;\n",
              "      height: 32px;\n",
              "      padding: 0 0 0 0;\n",
              "      width: 32px;\n",
              "    }\n",
              "\n",
              "    .colab-df-convert:hover {\n",
              "      background-color: #E2EBFA;\n",
              "      box-shadow: 0px 1px 2px rgba(60, 64, 67, 0.3), 0px 1px 3px 1px rgba(60, 64, 67, 0.15);\n",
              "      fill: #174EA6;\n",
              "    }\n",
              "\n",
              "    [theme=dark] .colab-df-convert {\n",
              "      background-color: #3B4455;\n",
              "      fill: #D2E3FC;\n",
              "    }\n",
              "\n",
              "    [theme=dark] .colab-df-convert:hover {\n",
              "      background-color: #434B5C;\n",
              "      box-shadow: 0px 1px 3px 1px rgba(0, 0, 0, 0.15);\n",
              "      filter: drop-shadow(0px 1px 2px rgba(0, 0, 0, 0.3));\n",
              "      fill: #FFFFFF;\n",
              "    }\n",
              "  </style>\n",
              "\n",
              "      <script>\n",
              "        const buttonEl =\n",
              "          document.querySelector('#df-9e89c6ad-6b53-4d07-850a-18213669809b button.colab-df-convert');\n",
              "        buttonEl.style.display =\n",
              "          google.colab.kernel.accessAllowed ? 'block' : 'none';\n",
              "\n",
              "        async function convertToInteractive(key) {\n",
              "          const element = document.querySelector('#df-9e89c6ad-6b53-4d07-850a-18213669809b');\n",
              "          const dataTable =\n",
              "            await google.colab.kernel.invokeFunction('convertToInteractive',\n",
              "                                                     [key], {});\n",
              "          if (!dataTable) return;\n",
              "\n",
              "          const docLinkHtml = 'Like what you see? Visit the ' +\n",
              "            '<a target=\"_blank\" href=https://colab.research.google.com/notebooks/data_table.ipynb>data table notebook</a>'\n",
              "            + ' to learn more about interactive tables.';\n",
              "          element.innerHTML = '';\n",
              "          dataTable['output_type'] = 'display_data';\n",
              "          await google.colab.output.renderOutput(dataTable, element);\n",
              "          const docLink = document.createElement('div');\n",
              "          docLink.innerHTML = docLinkHtml;\n",
              "          element.appendChild(docLink);\n",
              "        }\n",
              "      </script>\n",
              "    </div>\n",
              "  </div>\n",
              "  "
            ]
          },
          "metadata": {},
          "execution_count": 224
        }
      ]
    },
    {
      "cell_type": "code",
      "source": [
        "# usuwam \"%\" z kolumny revol_util zamieniam na type float\n",
        "df['revol_util'] = df['revol_util'].str.rstrip(\"%\").astype(float) "
      ],
      "metadata": {
        "id": "rBz6UpRme5Ha"
      },
      "execution_count": null,
      "outputs": []
    },
    {
      "cell_type": "code",
      "source": [
        "# zmieniam nazwę kolumny, by było wiadomo, że dane są podane w procentach\n",
        "df.rename(columns={\"revol_util\":\"revol_util_in_percent\"}, inplace = True)"
      ],
      "metadata": {
        "id": "7rcStKe7e5Ug"
      },
      "execution_count": null,
      "outputs": []
    },
    {
      "cell_type": "code",
      "source": [
        "# sprawdzam kolumnę pub_rec.value\n",
        "df.pub_rec.value_counts()"
      ],
      "metadata": {
        "colab": {
          "base_uri": "https://localhost:8080/"
        },
        "id": "T2uqHKl2NPeQ",
        "outputId": "7e8e7ea7-1696-4c78-93d1-44a2bf1f71ad"
      },
      "execution_count": null,
      "outputs": [
        {
          "output_type": "execute_result",
          "data": {
            "text/plain": [
              "0.0    40001\n",
              "1.0     2291\n",
              "2.0       64\n",
              "3.0       11\n",
              "4.0        2\n",
              "5.0        1\n",
              "Name: pub_rec, dtype: int64"
            ]
          },
          "metadata": {},
          "execution_count": 227
        }
      ]
    },
    {
      "cell_type": "code",
      "source": [
        "# sprawdzam korelację dwóch kolumn, które z opisy wyglądają na zawierające podobne dane\n",
        "df.pub_rec.corr(df.pub_rec_bankruptcies)"
      ],
      "metadata": {
        "colab": {
          "base_uri": "https://localhost:8080/"
        },
        "id": "Qg_t8nvGCWDb",
        "outputId": "4d154dd1-c172-4dd4-9ab8-983f67d03582"
      },
      "execution_count": null,
      "outputs": [
        {
          "output_type": "execute_result",
          "data": {
            "text/plain": [
              "0.8251116957500485"
            ]
          },
          "metadata": {},
          "execution_count": 228
        }
      ]
    },
    {
      "cell_type": "code",
      "source": [
        "# usuwam kolumnę pub_rec  (wysoka korelacja z pub_rec_bankruptcies; dublujące się informacje )\n",
        "df.drop('pub_rec', axis = 1, inplace = True)"
      ],
      "metadata": {
        "id": "csJvr1iqPN0f"
      },
      "execution_count": null,
      "outputs": []
    },
    {
      "cell_type": "code",
      "source": [
        "df.acc_now_delinq.value_counts()"
      ],
      "metadata": {
        "colab": {
          "base_uri": "https://localhost:8080/"
        },
        "id": "1qusSi6zMhtb",
        "outputId": "c9baf9c5-62bc-4576-b265-f79c170dc935"
      },
      "execution_count": null,
      "outputs": [
        {
          "output_type": "execute_result",
          "data": {
            "text/plain": [
              "0.0    42367\n",
              "1.0        3\n",
              "Name: acc_now_delinq, dtype: int64"
            ]
          },
          "metadata": {},
          "execution_count": 230
        }
      ]
    },
    {
      "cell_type": "code",
      "source": [
        "# usuwam kolumnę acc_now_delinq, bo praktycznie nunique = 1\n",
        "df.drop(['acc_now_delinq'], axis = 1, inplace = True)"
      ],
      "metadata": {
        "id": "t10pNF_9Mqz_"
      },
      "execution_count": null,
      "outputs": []
    },
    {
      "cell_type": "code",
      "source": [
        "df.delinq_amnt.value_counts()"
      ],
      "metadata": {
        "colab": {
          "base_uri": "https://localhost:8080/"
        },
        "id": "3-1Pfw4IM_zU",
        "outputId": "35fb164d-b1bf-484c-9d92-16df6377e5b1"
      },
      "execution_count": null,
      "outputs": [
        {
          "output_type": "execute_result",
          "data": {
            "text/plain": [
              "0.0     42369\n",
              "27.0        1\n",
              "Name: delinq_amnt, dtype: int64"
            ]
          },
          "metadata": {},
          "execution_count": 232
        }
      ]
    },
    {
      "cell_type": "code",
      "source": [
        "# usuwam kolumnę delinq_amnt, bo praktycznie nunique = 1\n",
        "df.drop(['delinq_amnt'], axis = 1, inplace = True)"
      ],
      "metadata": {
        "id": "c2qXZW9_NFPx"
      },
      "execution_count": null,
      "outputs": []
    },
    {
      "cell_type": "code",
      "source": [
        "df.tax_liens.value_counts()"
      ],
      "metadata": {
        "colab": {
          "base_uri": "https://localhost:8080/"
        },
        "id": "ev8XYl2APWW5",
        "outputId": "40568d09-7c05-439e-e08b-4729f14214ac"
      },
      "execution_count": null,
      "outputs": [
        {
          "output_type": "execute_result",
          "data": {
            "text/plain": [
              "0.0    42369\n",
              "1.0        1\n",
              "Name: tax_liens, dtype: int64"
            ]
          },
          "metadata": {},
          "execution_count": 234
        }
      ]
    },
    {
      "cell_type": "code",
      "source": [
        "# usuwam kolumnę tax_liens, bo praktycznie nunique = 1\n",
        "df.drop(['tax_liens'], axis = 1, inplace = True)"
      ],
      "metadata": {
        "id": "10nyAi6fPY8n"
      },
      "execution_count": null,
      "outputs": []
    },
    {
      "cell_type": "code",
      "source": [
        "df.shape"
      ],
      "metadata": {
        "colab": {
          "base_uri": "https://localhost:8080/"
        },
        "id": "ewq0S_cYPrd2",
        "outputId": "1244e3e0-19eb-43dd-f742-e2d94473b5aa"
      },
      "execution_count": null,
      "outputs": [
        {
          "output_type": "execute_result",
          "data": {
            "text/plain": [
              "(42370, 26)"
            ]
          },
          "metadata": {},
          "execution_count": 236
        }
      ]
    },
    {
      "cell_type": "code",
      "source": [
        "df.columns"
      ],
      "metadata": {
        "colab": {
          "base_uri": "https://localhost:8080/"
        },
        "id": "OeuElrUWPuOt",
        "outputId": "24c89c60-0d2c-43a3-e797-2d3aa37b744d"
      },
      "execution_count": null,
      "outputs": [
        {
          "output_type": "execute_result",
          "data": {
            "text/plain": [
              "Index(['loan_amnt', 'funded_amnt', 'term', 'int_rate_in_percent',\n",
              "       'installment', 'grade', 'sub_grade', 'emp_length', 'home_ownership',\n",
              "       'annual_inc', 'verification_status', 'loan_status', 'desc', 'purpose',\n",
              "       'title(consolidation/not)', 'addr_state', 'dti', 'delinq_2yrs',\n",
              "       'earliest_cr_line', 'fico_range_low', 'fico_range_high',\n",
              "       'inq_last_6mths', 'open_acc', 'revol_bal', 'revol_util_in_percent',\n",
              "       'pub_rec_bankruptcies'],\n",
              "      dtype='object')"
            ]
          },
          "metadata": {},
          "execution_count": 237
        }
      ]
    },
    {
      "cell_type": "code",
      "execution_count": null,
      "metadata": {
        "id": "f8jTunu18geD",
        "colab": {
          "base_uri": "https://localhost:8080/"
        },
        "outputId": "92852635-2073-4c59-8df0-8a374b8c4869"
      },
      "outputs": [
        {
          "output_type": "stream",
          "name": "stdout",
          "text": [
            "<class 'pandas.core.frame.DataFrame'>\n",
            "Int64Index: 42370 entries, 1 to 42479\n",
            "Data columns (total 26 columns):\n",
            " #   Column                    Non-Null Count  Dtype         \n",
            "---  ------                    --------------  -----         \n",
            " 0   loan_amnt                 42370 non-null  float64       \n",
            " 1   funded_amnt               42370 non-null  float64       \n",
            " 2   term                      42370 non-null  int64         \n",
            " 3   int_rate_in_percent       42370 non-null  float64       \n",
            " 4   installment               42370 non-null  float64       \n",
            " 5   grade                     42370 non-null  object        \n",
            " 6   sub_grade                 42370 non-null  object        \n",
            " 7   emp_length                42370 non-null  float64       \n",
            " 8   home_ownership            42370 non-null  object        \n",
            " 9   annual_inc                42370 non-null  float64       \n",
            " 10  verification_status       42370 non-null  object        \n",
            " 11  loan_status               42370 non-null  object        \n",
            " 12  desc                      42370 non-null  object        \n",
            " 13  purpose                   42370 non-null  object        \n",
            " 14  title(consolidation/not)  42370 non-null  int64         \n",
            " 15  addr_state                42370 non-null  object        \n",
            " 16  dti                       42370 non-null  float64       \n",
            " 17  delinq_2yrs               42370 non-null  float64       \n",
            " 18  earliest_cr_line          42370 non-null  datetime64[ns]\n",
            " 19  fico_range_low            42370 non-null  float64       \n",
            " 20  fico_range_high           42370 non-null  float64       \n",
            " 21  inq_last_6mths            42370 non-null  float64       \n",
            " 22  open_acc                  42370 non-null  float64       \n",
            " 23  revol_bal                 42370 non-null  float64       \n",
            " 24  revol_util_in_percent     42370 non-null  float64       \n",
            " 25  pub_rec_bankruptcies      42370 non-null  float64       \n",
            "dtypes: datetime64[ns](1), float64(15), int64(2), object(8)\n",
            "memory usage: 9.7+ MB\n"
          ]
        }
      ],
      "source": [
        "df.info()"
      ]
    },
    {
      "cell_type": "code",
      "source": [
        "path = '/content/drive/My Drive/projekt_koncowy/Loan_data_after_part_1.csv'\n",
        "\n",
        "with open(path, 'w', encoding = 'utf-8-sig') as f:\n",
        "  df.to_csv(f)"
      ],
      "metadata": {
        "id": "qFbRP57qR7zV"
      },
      "execution_count": null,
      "outputs": []
    }
  ],
  "metadata": {
    "kernelspec": {
      "display_name": "Python 3 (ipykernel)",
      "language": "python",
      "name": "python3"
    },
    "language_info": {
      "codemirror_mode": {
        "name": "ipython",
        "version": 3
      },
      "file_extension": ".py",
      "mimetype": "text/x-python",
      "name": "python",
      "nbconvert_exporter": "python",
      "pygments_lexer": "ipython3",
      "version": "3.9.7"
    },
    "colab": {
      "name": "ML_final_project_part_1_data_processing.ipynb",
      "provenance": [],
      "collapsed_sections": [
        "awWHIhGbaQ5O",
        "yjnSAkIPy2Vo",
        "0ma0OHGAzDHG",
        "CfubisXZzO58",
        "ah720Bv6z7R4",
        "YNIvkvJJ0G9_",
        "r2qkUy920ZZQ"
      ]
    }
  },
  "nbformat": 4,
  "nbformat_minor": 0
}