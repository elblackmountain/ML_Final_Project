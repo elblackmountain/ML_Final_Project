{
  "nbformat": 4,
  "nbformat_minor": 0,
  "metadata": {
    "colab": {
      "name": "ML_final_project_part_3_feature_engineering.ipynb",
      "provenance": [],
      "collapsed_sections": [
        "KQCR2zgDbJMW",
        "Wpl5A0LmN1Fb",
        "zvItSPUEPZGc",
        "CkUWRv3D-yjs",
        "_Tn2SE8ZIk3q",
        "JOw1bv7NjQ3s",
        "9lEsBDCH9_Qp"
      ]
    },
    "kernelspec": {
      "name": "python3",
      "display_name": "Python 3"
    },
    "language_info": {
      "name": "python"
    }
  },
  "cells": [
    {
      "cell_type": "markdown",
      "metadata": {
        "id": "4TrPnqvG8geG"
      },
      "source": [
        "# Projekt końcowy część 3 - feature engineering"
      ]
    },
    {
      "cell_type": "markdown",
      "source": [
        "# KOMENTARZ: przetrenowałam modele w czwartej części na bazie zawierającej 65 kolumn i 45 kolumn. Nie ma różnicy w efektach uczenia, jednak przy mniejszej bazie zajmuje ono mniej czasu.\n",
        "\n",
        "W tym pliku nie ma kolumn: \"adr_state\" oraz \"sub_grade\" (co oznacza, że nie ma na nich one-hot-encodingu, więc w sumie jest to różnica ok 20 kolumn)."
      ],
      "metadata": {
        "id": "dCveCLB6R0vK"
      }
    },
    {
      "cell_type": "markdown",
      "source": [
        "## Instrukcja"
      ],
      "metadata": {
        "id": "KQCR2zgDbJMW"
      }
    },
    {
      "cell_type": "markdown",
      "metadata": {
        "id": "7IOYMTwj8geG"
      },
      "source": [
        "1. Dużą część operacji zaliczających się do feature engineeringu znajdziecie tutaj: https://towardsdatascience.com/feature-engineering-for-machine-learning-3a5e293a5114\n",
        "2. Poza tym, można pokusić się o własne, \"eksperckie\" cechy - na przykład\n",
        "  * dodanie kolumny z propozycją wskaźnika finansowego - na przykład stosunek otrzymanej kwoty pożyczki do wnioskowanej\n",
        "  * dodanie kolumny z informacją czy pożyczka jest konsolidacyjna bądź nie (1 - tak, 0 - nie, a samą informajcę \"wydłubać z jednej z dostępnych kolumn)\n",
        "  * dodanie kolumny z informacją czy pożyczkobiorca bogato opisał cel pożyczki (może ci co opisuja rozwlekle to lepiej spłacają? albo są pewne słowa klucze których pojawienie się w opisie zmniejsza/zwiększa szansę na spłatę?)\n",
        "  * i wiele innych, które przyjdą Wam do głowy\n",
        "  "
      ]
    },
    {
      "cell_type": "markdown",
      "source": [
        "## Zaimportowanie danych, obejrzenie bazy"
      ],
      "metadata": {
        "id": "Wpl5A0LmN1Fb"
      }
    },
    {
      "cell_type": "code",
      "source": [
        "import pandas as pd\n",
        "import numpy as np\n",
        "from google.colab import drive\n",
        "from scipy import stats\n",
        "import matplotlib.pyplot as plt\n",
        "import seaborn as sns\n",
        "from scipy.stats import ttest_rel, skew\n",
        "import sklearn as sk\n",
        "from datetime import date\n",
        "from matplotlib import rcParams\n",
        "from sklearn.preprocessing import power_transform # odpowiednik transformacji logarytmicznej --> ma uczynic rozład naszych danych batdziej gaussowskie\n",
        "from collections import Counter\n",
        "from imblearn.over_sampling import SMOTE\n",
        "from sklearn.model_selection import train_test_split\n",
        "from sklearn.preprocessing import MinMaxScaler\n",
        "import scipy.stats as stats\n",
        "import warnings\n",
        "warnings.simplefilter(action='ignore', category=FutureWarning)"
      ],
      "metadata": {
        "id": "xL0twEU7Dvtg"
      },
      "execution_count": null,
      "outputs": []
    },
    {
      "cell_type": "code",
      "source": [
        "drive.mount('/content/drive')"
      ],
      "metadata": {
        "colab": {
          "base_uri": "https://localhost:8080/"
        },
        "id": "f2sfPoLkh5oz",
        "outputId": "6ac9dca6-c69e-493d-953d-2f9f07174281"
      },
      "execution_count": null,
      "outputs": [
        {
          "output_type": "stream",
          "name": "stdout",
          "text": [
            "Mounted at /content/drive\n"
          ]
        }
      ]
    },
    {
      "cell_type": "code",
      "source": [
        "df = pd.read_csv('drive/MyDrive/projekt_koncowy/Loan_data_after_part_2.csv', index_col = 0)\n",
        "df.head()"
      ],
      "metadata": {
        "colab": {
          "base_uri": "https://localhost:8080/"
        },
        "id": "AbVOwEQrh-KC",
        "outputId": "3cb4d5fc-fd3f-416e-b308-68409c19191b"
      },
      "execution_count": null,
      "outputs": [
        {
          "output_type": "execute_result",
          "data": {
            "text/plain": [
              "   loan_amnt  term  grade sub_grade  emp_lenght  home_ownership  annual_inc  \\\n",
              "1     5000.0    36      2        B2        10.0               2     24000.0   \n",
              "2     2500.0    60      3        C4         1.0               2     30000.0   \n",
              "3     2400.0    36      3        C5        10.0               2     12252.0   \n",
              "4    10000.0    36      3        C1        10.0               2     49200.0   \n",
              "5     3000.0    60      2        B5         1.0               2     80000.0   \n",
              "\n",
              "   verification_status  desc         purpose  ...    dti delinq_2yrs  \\\n",
              "1                    1     1     credit_card  ...  27.65         0.0   \n",
              "2                    2     1             car  ...   1.00         0.0   \n",
              "3                    0     0  small_business  ...   8.72         0.0   \n",
              "4                    2     1           other  ...  20.00         0.0   \n",
              "5                    2     1           other  ...  17.94         0.0   \n",
              "\n",
              "   earliest_cr_line  fico_range_low inq_last_6mths  open_acc  revol_bal  \\\n",
              "1        1985-01-01           735.0            1.0       3.0    13648.0   \n",
              "2        1999-04-01           740.0            5.0       3.0     1687.0   \n",
              "3        2001-11-01           735.0            2.0       2.0     2956.0   \n",
              "4        1996-02-01           690.0            1.0      10.0     5598.0   \n",
              "5        1996-01-01           695.0            0.0      15.0    27783.0   \n",
              "\n",
              "   revol_util_in_percent  pub_rec_bankruptcies  loan_status  \n",
              "1                   83.7                   0.0            1  \n",
              "2                    9.4                   0.0            0  \n",
              "3                   98.5                   0.0            1  \n",
              "4                   21.0                   0.0            1  \n",
              "5                   53.9                   0.0            1  \n",
              "\n",
              "[5 rows x 22 columns]"
            ],
            "text/html": [
              "\n",
              "  <div id=\"df-096e1e6e-6052-4770-b593-699b47ea39de\">\n",
              "    <div class=\"colab-df-container\">\n",
              "      <div>\n",
              "<style scoped>\n",
              "    .dataframe tbody tr th:only-of-type {\n",
              "        vertical-align: middle;\n",
              "    }\n",
              "\n",
              "    .dataframe tbody tr th {\n",
              "        vertical-align: top;\n",
              "    }\n",
              "\n",
              "    .dataframe thead th {\n",
              "        text-align: right;\n",
              "    }\n",
              "</style>\n",
              "<table border=\"1\" class=\"dataframe\">\n",
              "  <thead>\n",
              "    <tr style=\"text-align: right;\">\n",
              "      <th></th>\n",
              "      <th>loan_amnt</th>\n",
              "      <th>term</th>\n",
              "      <th>grade</th>\n",
              "      <th>sub_grade</th>\n",
              "      <th>emp_lenght</th>\n",
              "      <th>home_ownership</th>\n",
              "      <th>annual_inc</th>\n",
              "      <th>verification_status</th>\n",
              "      <th>desc</th>\n",
              "      <th>purpose</th>\n",
              "      <th>...</th>\n",
              "      <th>dti</th>\n",
              "      <th>delinq_2yrs</th>\n",
              "      <th>earliest_cr_line</th>\n",
              "      <th>fico_range_low</th>\n",
              "      <th>inq_last_6mths</th>\n",
              "      <th>open_acc</th>\n",
              "      <th>revol_bal</th>\n",
              "      <th>revol_util_in_percent</th>\n",
              "      <th>pub_rec_bankruptcies</th>\n",
              "      <th>loan_status</th>\n",
              "    </tr>\n",
              "  </thead>\n",
              "  <tbody>\n",
              "    <tr>\n",
              "      <th>1</th>\n",
              "      <td>5000.0</td>\n",
              "      <td>36</td>\n",
              "      <td>2</td>\n",
              "      <td>B2</td>\n",
              "      <td>10.0</td>\n",
              "      <td>2</td>\n",
              "      <td>24000.0</td>\n",
              "      <td>1</td>\n",
              "      <td>1</td>\n",
              "      <td>credit_card</td>\n",
              "      <td>...</td>\n",
              "      <td>27.65</td>\n",
              "      <td>0.0</td>\n",
              "      <td>1985-01-01</td>\n",
              "      <td>735.0</td>\n",
              "      <td>1.0</td>\n",
              "      <td>3.0</td>\n",
              "      <td>13648.0</td>\n",
              "      <td>83.7</td>\n",
              "      <td>0.0</td>\n",
              "      <td>1</td>\n",
              "    </tr>\n",
              "    <tr>\n",
              "      <th>2</th>\n",
              "      <td>2500.0</td>\n",
              "      <td>60</td>\n",
              "      <td>3</td>\n",
              "      <td>C4</td>\n",
              "      <td>1.0</td>\n",
              "      <td>2</td>\n",
              "      <td>30000.0</td>\n",
              "      <td>2</td>\n",
              "      <td>1</td>\n",
              "      <td>car</td>\n",
              "      <td>...</td>\n",
              "      <td>1.00</td>\n",
              "      <td>0.0</td>\n",
              "      <td>1999-04-01</td>\n",
              "      <td>740.0</td>\n",
              "      <td>5.0</td>\n",
              "      <td>3.0</td>\n",
              "      <td>1687.0</td>\n",
              "      <td>9.4</td>\n",
              "      <td>0.0</td>\n",
              "      <td>0</td>\n",
              "    </tr>\n",
              "    <tr>\n",
              "      <th>3</th>\n",
              "      <td>2400.0</td>\n",
              "      <td>36</td>\n",
              "      <td>3</td>\n",
              "      <td>C5</td>\n",
              "      <td>10.0</td>\n",
              "      <td>2</td>\n",
              "      <td>12252.0</td>\n",
              "      <td>0</td>\n",
              "      <td>0</td>\n",
              "      <td>small_business</td>\n",
              "      <td>...</td>\n",
              "      <td>8.72</td>\n",
              "      <td>0.0</td>\n",
              "      <td>2001-11-01</td>\n",
              "      <td>735.0</td>\n",
              "      <td>2.0</td>\n",
              "      <td>2.0</td>\n",
              "      <td>2956.0</td>\n",
              "      <td>98.5</td>\n",
              "      <td>0.0</td>\n",
              "      <td>1</td>\n",
              "    </tr>\n",
              "    <tr>\n",
              "      <th>4</th>\n",
              "      <td>10000.0</td>\n",
              "      <td>36</td>\n",
              "      <td>3</td>\n",
              "      <td>C1</td>\n",
              "      <td>10.0</td>\n",
              "      <td>2</td>\n",
              "      <td>49200.0</td>\n",
              "      <td>2</td>\n",
              "      <td>1</td>\n",
              "      <td>other</td>\n",
              "      <td>...</td>\n",
              "      <td>20.00</td>\n",
              "      <td>0.0</td>\n",
              "      <td>1996-02-01</td>\n",
              "      <td>690.0</td>\n",
              "      <td>1.0</td>\n",
              "      <td>10.0</td>\n",
              "      <td>5598.0</td>\n",
              "      <td>21.0</td>\n",
              "      <td>0.0</td>\n",
              "      <td>1</td>\n",
              "    </tr>\n",
              "    <tr>\n",
              "      <th>5</th>\n",
              "      <td>3000.0</td>\n",
              "      <td>60</td>\n",
              "      <td>2</td>\n",
              "      <td>B5</td>\n",
              "      <td>1.0</td>\n",
              "      <td>2</td>\n",
              "      <td>80000.0</td>\n",
              "      <td>2</td>\n",
              "      <td>1</td>\n",
              "      <td>other</td>\n",
              "      <td>...</td>\n",
              "      <td>17.94</td>\n",
              "      <td>0.0</td>\n",
              "      <td>1996-01-01</td>\n",
              "      <td>695.0</td>\n",
              "      <td>0.0</td>\n",
              "      <td>15.0</td>\n",
              "      <td>27783.0</td>\n",
              "      <td>53.9</td>\n",
              "      <td>0.0</td>\n",
              "      <td>1</td>\n",
              "    </tr>\n",
              "  </tbody>\n",
              "</table>\n",
              "<p>5 rows × 22 columns</p>\n",
              "</div>\n",
              "      <button class=\"colab-df-convert\" onclick=\"convertToInteractive('df-096e1e6e-6052-4770-b593-699b47ea39de')\"\n",
              "              title=\"Convert this dataframe to an interactive table.\"\n",
              "              style=\"display:none;\">\n",
              "        \n",
              "  <svg xmlns=\"http://www.w3.org/2000/svg\" height=\"24px\"viewBox=\"0 0 24 24\"\n",
              "       width=\"24px\">\n",
              "    <path d=\"M0 0h24v24H0V0z\" fill=\"none\"/>\n",
              "    <path d=\"M18.56 5.44l.94 2.06.94-2.06 2.06-.94-2.06-.94-.94-2.06-.94 2.06-2.06.94zm-11 1L8.5 8.5l.94-2.06 2.06-.94-2.06-.94L8.5 2.5l-.94 2.06-2.06.94zm10 10l.94 2.06.94-2.06 2.06-.94-2.06-.94-.94-2.06-.94 2.06-2.06.94z\"/><path d=\"M17.41 7.96l-1.37-1.37c-.4-.4-.92-.59-1.43-.59-.52 0-1.04.2-1.43.59L10.3 9.45l-7.72 7.72c-.78.78-.78 2.05 0 2.83L4 21.41c.39.39.9.59 1.41.59.51 0 1.02-.2 1.41-.59l7.78-7.78 2.81-2.81c.8-.78.8-2.07 0-2.86zM5.41 20L4 18.59l7.72-7.72 1.47 1.35L5.41 20z\"/>\n",
              "  </svg>\n",
              "      </button>\n",
              "      \n",
              "  <style>\n",
              "    .colab-df-container {\n",
              "      display:flex;\n",
              "      flex-wrap:wrap;\n",
              "      gap: 12px;\n",
              "    }\n",
              "\n",
              "    .colab-df-convert {\n",
              "      background-color: #E8F0FE;\n",
              "      border: none;\n",
              "      border-radius: 50%;\n",
              "      cursor: pointer;\n",
              "      display: none;\n",
              "      fill: #1967D2;\n",
              "      height: 32px;\n",
              "      padding: 0 0 0 0;\n",
              "      width: 32px;\n",
              "    }\n",
              "\n",
              "    .colab-df-convert:hover {\n",
              "      background-color: #E2EBFA;\n",
              "      box-shadow: 0px 1px 2px rgba(60, 64, 67, 0.3), 0px 1px 3px 1px rgba(60, 64, 67, 0.15);\n",
              "      fill: #174EA6;\n",
              "    }\n",
              "\n",
              "    [theme=dark] .colab-df-convert {\n",
              "      background-color: #3B4455;\n",
              "      fill: #D2E3FC;\n",
              "    }\n",
              "\n",
              "    [theme=dark] .colab-df-convert:hover {\n",
              "      background-color: #434B5C;\n",
              "      box-shadow: 0px 1px 3px 1px rgba(0, 0, 0, 0.15);\n",
              "      filter: drop-shadow(0px 1px 2px rgba(0, 0, 0, 0.3));\n",
              "      fill: #FFFFFF;\n",
              "    }\n",
              "  </style>\n",
              "\n",
              "      <script>\n",
              "        const buttonEl =\n",
              "          document.querySelector('#df-096e1e6e-6052-4770-b593-699b47ea39de button.colab-df-convert');\n",
              "        buttonEl.style.display =\n",
              "          google.colab.kernel.accessAllowed ? 'block' : 'none';\n",
              "\n",
              "        async function convertToInteractive(key) {\n",
              "          const element = document.querySelector('#df-096e1e6e-6052-4770-b593-699b47ea39de');\n",
              "          const dataTable =\n",
              "            await google.colab.kernel.invokeFunction('convertToInteractive',\n",
              "                                                     [key], {});\n",
              "          if (!dataTable) return;\n",
              "\n",
              "          const docLinkHtml = 'Like what you see? Visit the ' +\n",
              "            '<a target=\"_blank\" href=https://colab.research.google.com/notebooks/data_table.ipynb>data table notebook</a>'\n",
              "            + ' to learn more about interactive tables.';\n",
              "          element.innerHTML = '';\n",
              "          dataTable['output_type'] = 'display_data';\n",
              "          await google.colab.output.renderOutput(dataTable, element);\n",
              "          const docLink = document.createElement('div');\n",
              "          docLink.innerHTML = docLinkHtml;\n",
              "          element.appendChild(docLink);\n",
              "        }\n",
              "      </script>\n",
              "    </div>\n",
              "  </div>\n",
              "  "
            ]
          },
          "metadata": {},
          "execution_count": 3
        }
      ]
    },
    {
      "cell_type": "code",
      "source": [
        "df.columns"
      ],
      "metadata": {
        "colab": {
          "base_uri": "https://localhost:8080/"
        },
        "id": "Nwx8YyVAxX_1",
        "outputId": "811f7019-b748-411d-d604-88c888a7c192"
      },
      "execution_count": null,
      "outputs": [
        {
          "output_type": "execute_result",
          "data": {
            "text/plain": [
              "Index(['loan_amnt', 'term', 'grade', 'sub_grade', 'emp_lenght',\n",
              "       'home_ownership', 'annual_inc', 'verification_status', 'desc',\n",
              "       'purpose', 'title(consolidation/not)', 'addr_state', 'dti',\n",
              "       'delinq_2yrs', 'earliest_cr_line', 'fico_range_low', 'inq_last_6mths',\n",
              "       'open_acc', 'revol_bal', 'revol_util_in_percent',\n",
              "       'pub_rec_bankruptcies', 'loan_status'],\n",
              "      dtype='object')"
            ]
          },
          "metadata": {},
          "execution_count": 4
        }
      ]
    },
    {
      "cell_type": "markdown",
      "source": [
        "## Extracting year from erliest_cr_line"
      ],
      "metadata": {
        "id": "zvItSPUEPZGc"
      }
    },
    {
      "cell_type": "code",
      "source": [
        "df.earliest_cr_line.value_counts()"
      ],
      "metadata": {
        "colab": {
          "base_uri": "https://localhost:8080/"
        },
        "id": "RDlIqxc8XFjg",
        "outputId": "2c5ac299-87c7-4818-92a6-5751ab0ff96c"
      },
      "execution_count": null,
      "outputs": [
        {
          "output_type": "execute_result",
          "data": {
            "text/plain": [
              "1999-10-01    390\n",
              "1998-11-01    387\n",
              "2000-10-01    367\n",
              "1998-12-01    363\n",
              "2000-11-01    340\n",
              "             ... \n",
              "1967-06-01      1\n",
              "1968-06-01      1\n",
              "1967-08-01      1\n",
              "1963-12-01      1\n",
              "1969-05-01      1\n",
              "Name: earliest_cr_line, Length: 529, dtype: int64"
            ]
          },
          "metadata": {},
          "execution_count": 5
        }
      ]
    },
    {
      "cell_type": "code",
      "source": [
        "df.earliest_cr_line = pd.to_datetime(df['earliest_cr_line'], format='%Y.%m.%d')"
      ],
      "metadata": {
        "id": "QMiZ9I-DekxL"
      },
      "execution_count": null,
      "outputs": []
    },
    {
      "cell_type": "code",
      "source": [
        "# Wyciągam rok z earliest_cr_line, żeby algorytm łatwiej analizował dane\n",
        "df['earliest_cr_line_year'] = df['earliest_cr_line'].dt.year"
      ],
      "metadata": {
        "id": "BC_8w4krFplG"
      },
      "execution_count": null,
      "outputs": []
    },
    {
      "cell_type": "code",
      "source": [
        "# Usuwam kolumnę earliest_cr_line - rok powinien wystarczyć\n",
        "df.drop(['earliest_cr_line'], axis = 1, inplace = True)"
      ],
      "metadata": {
        "id": "UJHM7xX3fiYX"
      },
      "execution_count": null,
      "outputs": []
    },
    {
      "cell_type": "markdown",
      "source": [
        ""
      ],
      "metadata": {
        "id": "hMp3jvCjWNCf"
      }
    },
    {
      "cell_type": "markdown",
      "source": [
        "## Dodanie kolumny z nowym wskaźnikiem (installment/monthly_inc)"
      ],
      "metadata": {
        "id": "CkUWRv3D-yjs"
      }
    },
    {
      "cell_type": "code",
      "source": [
        "# dodaję kolumnę: wskazującą jaki % miesięcznych przychodów stanowi rata\n",
        "installment = round(df['loan_amnt']/df['term'])\n",
        "monthly_income = df['annual_inc']/12\n",
        "df['installment_to_inc'] = 100*(installment/monthly_income)"
      ],
      "metadata": {
        "id": "UuSpJARIykX0"
      },
      "execution_count": null,
      "outputs": []
    },
    {
      "cell_type": "code",
      "source": [
        "df['installment_to_inc'].head()"
      ],
      "metadata": {
        "colab": {
          "base_uri": "https://localhost:8080/"
        },
        "id": "MSW9Nte-zFya",
        "outputId": "e160d5d4-eb67-44f2-92f0-216b3c261511"
      },
      "execution_count": null,
      "outputs": [
        {
          "output_type": "execute_result",
          "data": {
            "text/plain": [
              "1    6.950000\n",
              "2    1.680000\n",
              "3    6.562194\n",
              "4    6.780488\n",
              "5    0.750000\n",
              "Name: installment_to_inc, dtype: float64"
            ]
          },
          "metadata": {},
          "execution_count": 10
        }
      ]
    },
    {
      "cell_type": "code",
      "source": [
        "df.drop(['addr_state', 'sub_grade'], axis=1, inplace = True)"
      ],
      "metadata": {
        "id": "8whKORXveS9p"
      },
      "execution_count": null,
      "outputs": []
    },
    {
      "cell_type": "markdown",
      "source": [
        "## Binning (fico_range_low, loan_amnt, annual_inc, sub_grade, open_acc, revol_bal)"
      ],
      "metadata": {
        "id": "_Tn2SE8ZIk3q"
      }
    },
    {
      "cell_type": "code",
      "source": [
        "# łączę rekordy fico_range_flow w 4 grupy, które wyszły mi z analizy w części 2\n",
        "df['fico_range_low'] = pd.cut(df.fico_range_low, bins=[0,690,715,745, 850], labels=[\"Fico_Low\", \"Fico_LowerMid\", \"Fico_HigherMID\",\"Fico_High\"], include_lowest=True)"
      ],
      "metadata": {
        "id": "T1EXs0tIIpox"
      },
      "execution_count": null,
      "outputs": []
    },
    {
      "cell_type": "code",
      "source": [
        "# łączę rekordy loan_amnt w 4 grupy, które wyszły mi z analizy w części 2\n",
        "df['loan_amnt'] = pd.cut(df.loan_amnt, bins=[0, 5500, 10000, 15500, 45000], labels=[\"Loan_Low\", \"Loan_LowerMid\", \"Loan_HigherMID\",\"Loan_High\"], include_lowest=True)"
      ],
      "metadata": {
        "id": "TbtO649qKv4-"
      },
      "execution_count": null,
      "outputs": []
    },
    {
      "cell_type": "code",
      "source": [
        "# łączę rekordy annual_inc w 4 grupy, które wyszły mi z analizy w części 2\n",
        "df['annual_inc'] = pd.cut(df.annual_inc, bins=[0, 40000, 70000, 100000, 390000], labels=[\"Inc_Low\", \"Inc_LowerMid\", \"Inc_HigherMID\",\"Inc_High\"], include_lowest=True)"
      ],
      "metadata": {
        "id": "w82vSKOnOGfu"
      },
      "execution_count": null,
      "outputs": []
    },
    {
      "cell_type": "code",
      "source": [
        "# sprawdzam kolumnę open_acc czy wymaga binningu\n",
        "df.open_acc.value_counts().sort_index()"
      ],
      "metadata": {
        "colab": {
          "base_uri": "https://localhost:8080/"
        },
        "id": "fr1ST3_l38G7",
        "outputId": "f7a8e119-acf0-458b-a0d2-a0a9e1f1eaf8"
      },
      "execution_count": null,
      "outputs": [
        {
          "output_type": "execute_result",
          "data": {
            "text/plain": [
              "1.0       34\n",
              "2.0      651\n",
              "3.0     1566\n",
              "4.0     2465\n",
              "5.0     3317\n",
              "6.0     4112\n",
              "7.0     4164\n",
              "8.0     4095\n",
              "9.0     3850\n",
              "10.0    3311\n",
              "11.0    2880\n",
              "12.0    2342\n",
              "13.0    2011\n",
              "14.0    1555\n",
              "15.0    1252\n",
              "16.0     999\n",
              "17.0     782\n",
              "18.0     568\n",
              "19.0     417\n",
              "20.0     314\n",
              "21.0     266\n",
              "22.0     162\n",
              "23.0     110\n",
              "24.0      82\n",
              "25.0      61\n",
              "26.0      37\n",
              "27.0      28\n",
              "28.0      27\n",
              "29.0      13\n",
              "30.0      16\n",
              "31.0      11\n",
              "Name: open_acc, dtype: int64"
            ]
          },
          "metadata": {},
          "execution_count": 15
        }
      ]
    },
    {
      "cell_type": "code",
      "source": [
        "# używam qcut dla znalezienia odpowiednich przedziałów - sprawdzam różnicę pomiędzuy podziałem na 4 i na 10 bins\n",
        "df['open_acc_quartiles'] = pd.qcut(df['open_acc'], q=4)\n",
        "df['open_acc_deciles'] = pd.qcut(df['open_acc'], q=10, precision=0)\n",
        "\n",
        "df.head()"
      ],
      "metadata": {
        "colab": {
          "base_uri": "https://localhost:8080/"
        },
        "id": "trUJMOuK5gj8",
        "outputId": "f46b5442-d5ca-4819-bed2-d3b94dd83818"
      },
      "execution_count": null,
      "outputs": [
        {
          "output_type": "execute_result",
          "data": {
            "text/plain": [
              "       loan_amnt  term  grade  emp_lenght  home_ownership     annual_inc  \\\n",
              "1       Loan_Low    36      2        10.0               2        Inc_Low   \n",
              "2       Loan_Low    60      3         1.0               2        Inc_Low   \n",
              "3       Loan_Low    36      3        10.0               2        Inc_Low   \n",
              "4  Loan_LowerMid    36      3        10.0               2   Inc_LowerMid   \n",
              "5       Loan_Low    60      2         1.0               2  Inc_HigherMID   \n",
              "\n",
              "   verification_status  desc         purpose  title(consolidation/not)  ...  \\\n",
              "1                    1     1     credit_card                         0  ...   \n",
              "2                    2     1             car                         0  ...   \n",
              "3                    0     0  small_business                         0  ...   \n",
              "4                    2     1           other                         0  ...   \n",
              "5                    2     1           other                         0  ...   \n",
              "\n",
              "   inq_last_6mths  open_acc revol_bal  revol_util_in_percent  \\\n",
              "1             1.0       3.0   13648.0                   83.7   \n",
              "2             5.0       3.0    1687.0                    9.4   \n",
              "3             2.0       2.0    2956.0                   98.5   \n",
              "4             1.0      10.0    5598.0                   21.0   \n",
              "5             0.0      15.0   27783.0                   53.9   \n",
              "\n",
              "   pub_rec_bankruptcies  loan_status  earliest_cr_line_year  \\\n",
              "1                   0.0            1                   1985   \n",
              "2                   0.0            0                   1999   \n",
              "3                   0.0            1                   2001   \n",
              "4                   0.0            1                   1996   \n",
              "5                   0.0            1                   1996   \n",
              "\n",
              "   installment_to_inc  open_acc_quartiles  open_acc_deciles  \n",
              "1            6.950000        (0.999, 6.0]        (0.0, 4.0]  \n",
              "2            1.680000        (0.999, 6.0]        (0.0, 4.0]  \n",
              "3            6.562194        (0.999, 6.0]        (0.0, 4.0]  \n",
              "4            6.780488         (9.0, 12.0]       (9.0, 10.0]  \n",
              "5            0.750000        (12.0, 31.0]      (13.0, 15.0]  \n",
              "\n",
              "[5 rows x 23 columns]"
            ],
            "text/html": [
              "\n",
              "  <div id=\"df-3840ad0b-e428-4bae-a3dd-b9fd8a2bfa33\">\n",
              "    <div class=\"colab-df-container\">\n",
              "      <div>\n",
              "<style scoped>\n",
              "    .dataframe tbody tr th:only-of-type {\n",
              "        vertical-align: middle;\n",
              "    }\n",
              "\n",
              "    .dataframe tbody tr th {\n",
              "        vertical-align: top;\n",
              "    }\n",
              "\n",
              "    .dataframe thead th {\n",
              "        text-align: right;\n",
              "    }\n",
              "</style>\n",
              "<table border=\"1\" class=\"dataframe\">\n",
              "  <thead>\n",
              "    <tr style=\"text-align: right;\">\n",
              "      <th></th>\n",
              "      <th>loan_amnt</th>\n",
              "      <th>term</th>\n",
              "      <th>grade</th>\n",
              "      <th>emp_lenght</th>\n",
              "      <th>home_ownership</th>\n",
              "      <th>annual_inc</th>\n",
              "      <th>verification_status</th>\n",
              "      <th>desc</th>\n",
              "      <th>purpose</th>\n",
              "      <th>title(consolidation/not)</th>\n",
              "      <th>...</th>\n",
              "      <th>inq_last_6mths</th>\n",
              "      <th>open_acc</th>\n",
              "      <th>revol_bal</th>\n",
              "      <th>revol_util_in_percent</th>\n",
              "      <th>pub_rec_bankruptcies</th>\n",
              "      <th>loan_status</th>\n",
              "      <th>earliest_cr_line_year</th>\n",
              "      <th>installment_to_inc</th>\n",
              "      <th>open_acc_quartiles</th>\n",
              "      <th>open_acc_deciles</th>\n",
              "    </tr>\n",
              "  </thead>\n",
              "  <tbody>\n",
              "    <tr>\n",
              "      <th>1</th>\n",
              "      <td>Loan_Low</td>\n",
              "      <td>36</td>\n",
              "      <td>2</td>\n",
              "      <td>10.0</td>\n",
              "      <td>2</td>\n",
              "      <td>Inc_Low</td>\n",
              "      <td>1</td>\n",
              "      <td>1</td>\n",
              "      <td>credit_card</td>\n",
              "      <td>0</td>\n",
              "      <td>...</td>\n",
              "      <td>1.0</td>\n",
              "      <td>3.0</td>\n",
              "      <td>13648.0</td>\n",
              "      <td>83.7</td>\n",
              "      <td>0.0</td>\n",
              "      <td>1</td>\n",
              "      <td>1985</td>\n",
              "      <td>6.950000</td>\n",
              "      <td>(0.999, 6.0]</td>\n",
              "      <td>(0.0, 4.0]</td>\n",
              "    </tr>\n",
              "    <tr>\n",
              "      <th>2</th>\n",
              "      <td>Loan_Low</td>\n",
              "      <td>60</td>\n",
              "      <td>3</td>\n",
              "      <td>1.0</td>\n",
              "      <td>2</td>\n",
              "      <td>Inc_Low</td>\n",
              "      <td>2</td>\n",
              "      <td>1</td>\n",
              "      <td>car</td>\n",
              "      <td>0</td>\n",
              "      <td>...</td>\n",
              "      <td>5.0</td>\n",
              "      <td>3.0</td>\n",
              "      <td>1687.0</td>\n",
              "      <td>9.4</td>\n",
              "      <td>0.0</td>\n",
              "      <td>0</td>\n",
              "      <td>1999</td>\n",
              "      <td>1.680000</td>\n",
              "      <td>(0.999, 6.0]</td>\n",
              "      <td>(0.0, 4.0]</td>\n",
              "    </tr>\n",
              "    <tr>\n",
              "      <th>3</th>\n",
              "      <td>Loan_Low</td>\n",
              "      <td>36</td>\n",
              "      <td>3</td>\n",
              "      <td>10.0</td>\n",
              "      <td>2</td>\n",
              "      <td>Inc_Low</td>\n",
              "      <td>0</td>\n",
              "      <td>0</td>\n",
              "      <td>small_business</td>\n",
              "      <td>0</td>\n",
              "      <td>...</td>\n",
              "      <td>2.0</td>\n",
              "      <td>2.0</td>\n",
              "      <td>2956.0</td>\n",
              "      <td>98.5</td>\n",
              "      <td>0.0</td>\n",
              "      <td>1</td>\n",
              "      <td>2001</td>\n",
              "      <td>6.562194</td>\n",
              "      <td>(0.999, 6.0]</td>\n",
              "      <td>(0.0, 4.0]</td>\n",
              "    </tr>\n",
              "    <tr>\n",
              "      <th>4</th>\n",
              "      <td>Loan_LowerMid</td>\n",
              "      <td>36</td>\n",
              "      <td>3</td>\n",
              "      <td>10.0</td>\n",
              "      <td>2</td>\n",
              "      <td>Inc_LowerMid</td>\n",
              "      <td>2</td>\n",
              "      <td>1</td>\n",
              "      <td>other</td>\n",
              "      <td>0</td>\n",
              "      <td>...</td>\n",
              "      <td>1.0</td>\n",
              "      <td>10.0</td>\n",
              "      <td>5598.0</td>\n",
              "      <td>21.0</td>\n",
              "      <td>0.0</td>\n",
              "      <td>1</td>\n",
              "      <td>1996</td>\n",
              "      <td>6.780488</td>\n",
              "      <td>(9.0, 12.0]</td>\n",
              "      <td>(9.0, 10.0]</td>\n",
              "    </tr>\n",
              "    <tr>\n",
              "      <th>5</th>\n",
              "      <td>Loan_Low</td>\n",
              "      <td>60</td>\n",
              "      <td>2</td>\n",
              "      <td>1.0</td>\n",
              "      <td>2</td>\n",
              "      <td>Inc_HigherMID</td>\n",
              "      <td>2</td>\n",
              "      <td>1</td>\n",
              "      <td>other</td>\n",
              "      <td>0</td>\n",
              "      <td>...</td>\n",
              "      <td>0.0</td>\n",
              "      <td>15.0</td>\n",
              "      <td>27783.0</td>\n",
              "      <td>53.9</td>\n",
              "      <td>0.0</td>\n",
              "      <td>1</td>\n",
              "      <td>1996</td>\n",
              "      <td>0.750000</td>\n",
              "      <td>(12.0, 31.0]</td>\n",
              "      <td>(13.0, 15.0]</td>\n",
              "    </tr>\n",
              "  </tbody>\n",
              "</table>\n",
              "<p>5 rows × 23 columns</p>\n",
              "</div>\n",
              "      <button class=\"colab-df-convert\" onclick=\"convertToInteractive('df-3840ad0b-e428-4bae-a3dd-b9fd8a2bfa33')\"\n",
              "              title=\"Convert this dataframe to an interactive table.\"\n",
              "              style=\"display:none;\">\n",
              "        \n",
              "  <svg xmlns=\"http://www.w3.org/2000/svg\" height=\"24px\"viewBox=\"0 0 24 24\"\n",
              "       width=\"24px\">\n",
              "    <path d=\"M0 0h24v24H0V0z\" fill=\"none\"/>\n",
              "    <path d=\"M18.56 5.44l.94 2.06.94-2.06 2.06-.94-2.06-.94-.94-2.06-.94 2.06-2.06.94zm-11 1L8.5 8.5l.94-2.06 2.06-.94-2.06-.94L8.5 2.5l-.94 2.06-2.06.94zm10 10l.94 2.06.94-2.06 2.06-.94-2.06-.94-.94-2.06-.94 2.06-2.06.94z\"/><path d=\"M17.41 7.96l-1.37-1.37c-.4-.4-.92-.59-1.43-.59-.52 0-1.04.2-1.43.59L10.3 9.45l-7.72 7.72c-.78.78-.78 2.05 0 2.83L4 21.41c.39.39.9.59 1.41.59.51 0 1.02-.2 1.41-.59l7.78-7.78 2.81-2.81c.8-.78.8-2.07 0-2.86zM5.41 20L4 18.59l7.72-7.72 1.47 1.35L5.41 20z\"/>\n",
              "  </svg>\n",
              "      </button>\n",
              "      \n",
              "  <style>\n",
              "    .colab-df-container {\n",
              "      display:flex;\n",
              "      flex-wrap:wrap;\n",
              "      gap: 12px;\n",
              "    }\n",
              "\n",
              "    .colab-df-convert {\n",
              "      background-color: #E8F0FE;\n",
              "      border: none;\n",
              "      border-radius: 50%;\n",
              "      cursor: pointer;\n",
              "      display: none;\n",
              "      fill: #1967D2;\n",
              "      height: 32px;\n",
              "      padding: 0 0 0 0;\n",
              "      width: 32px;\n",
              "    }\n",
              "\n",
              "    .colab-df-convert:hover {\n",
              "      background-color: #E2EBFA;\n",
              "      box-shadow: 0px 1px 2px rgba(60, 64, 67, 0.3), 0px 1px 3px 1px rgba(60, 64, 67, 0.15);\n",
              "      fill: #174EA6;\n",
              "    }\n",
              "\n",
              "    [theme=dark] .colab-df-convert {\n",
              "      background-color: #3B4455;\n",
              "      fill: #D2E3FC;\n",
              "    }\n",
              "\n",
              "    [theme=dark] .colab-df-convert:hover {\n",
              "      background-color: #434B5C;\n",
              "      box-shadow: 0px 1px 3px 1px rgba(0, 0, 0, 0.15);\n",
              "      filter: drop-shadow(0px 1px 2px rgba(0, 0, 0, 0.3));\n",
              "      fill: #FFFFFF;\n",
              "    }\n",
              "  </style>\n",
              "\n",
              "      <script>\n",
              "        const buttonEl =\n",
              "          document.querySelector('#df-3840ad0b-e428-4bae-a3dd-b9fd8a2bfa33 button.colab-df-convert');\n",
              "        buttonEl.style.display =\n",
              "          google.colab.kernel.accessAllowed ? 'block' : 'none';\n",
              "\n",
              "        async function convertToInteractive(key) {\n",
              "          const element = document.querySelector('#df-3840ad0b-e428-4bae-a3dd-b9fd8a2bfa33');\n",
              "          const dataTable =\n",
              "            await google.colab.kernel.invokeFunction('convertToInteractive',\n",
              "                                                     [key], {});\n",
              "          if (!dataTable) return;\n",
              "\n",
              "          const docLinkHtml = 'Like what you see? Visit the ' +\n",
              "            '<a target=\"_blank\" href=https://colab.research.google.com/notebooks/data_table.ipynb>data table notebook</a>'\n",
              "            + ' to learn more about interactive tables.';\n",
              "          element.innerHTML = '';\n",
              "          dataTable['output_type'] = 'display_data';\n",
              "          await google.colab.output.renderOutput(dataTable, element);\n",
              "          const docLink = document.createElement('div');\n",
              "          docLink.innerHTML = docLinkHtml;\n",
              "          element.appendChild(docLink);\n",
              "        }\n",
              "      </script>\n",
              "    </div>\n",
              "  </div>\n",
              "  "
            ]
          },
          "metadata": {},
          "execution_count": 16
        }
      ]
    },
    {
      "cell_type": "code",
      "source": [
        "df['open_acc_quartiles'].value_counts()"
      ],
      "metadata": {
        "colab": {
          "base_uri": "https://localhost:8080/"
        },
        "id": "cz1Bb0MI7CRU",
        "outputId": "9d959d06-921a-4fc9-c8ff-cb5cf0df6ffb"
      },
      "execution_count": null,
      "outputs": [
        {
          "output_type": "execute_result",
          "data": {
            "text/plain": [
              "(0.999, 6.0]    12145\n",
              "(6.0, 9.0]      12109\n",
              "(12.0, 31.0]     8711\n",
              "(9.0, 12.0]      8533\n",
              "Name: open_acc_quartiles, dtype: int64"
            ]
          },
          "metadata": {},
          "execution_count": 17
        }
      ]
    },
    {
      "cell_type": "code",
      "source": [
        "df['open_acc_deciles'].value_counts()"
      ],
      "metadata": {
        "colab": {
          "base_uri": "https://localhost:8080/"
        },
        "id": "6Q8-f0x_7GjZ",
        "outputId": "18790813-a19c-47e5-dd60-e7dbbd8e16d6"
      },
      "execution_count": null,
      "outputs": [
        {
          "output_type": "execute_result",
          "data": {
            "text/plain": [
              "(4.0, 6.0]      7429\n",
              "(0.0, 4.0]      4716\n",
              "(11.0, 13.0]    4353\n",
              "(6.0, 7.0]      4164\n",
              "(7.0, 8.0]      4095\n",
              "(15.0, 31.0]    3893\n",
              "(8.0, 9.0]      3850\n",
              "(9.0, 10.0]     3311\n",
              "(10.0, 11.0]    2880\n",
              "(13.0, 15.0]    2807\n",
              "Name: open_acc_deciles, dtype: int64"
            ]
          },
          "metadata": {},
          "execution_count": 18
        }
      ]
    },
    {
      "cell_type": "code",
      "source": [
        "# wybieram podział na 4 biny\n",
        "pd.qcut(df['open_acc'], q=4)"
      ],
      "metadata": {
        "id": "K_TG2BUc5EsK",
        "colab": {
          "base_uri": "https://localhost:8080/"
        },
        "outputId": "ce0526b8-c5df-4610-d35b-5d0ee15145c6"
      },
      "execution_count": null,
      "outputs": [
        {
          "output_type": "execute_result",
          "data": {
            "text/plain": [
              "1        (0.999, 6.0]\n",
              "2        (0.999, 6.0]\n",
              "3        (0.999, 6.0]\n",
              "4         (9.0, 12.0]\n",
              "5        (12.0, 31.0]\n",
              "             ...     \n",
              "42472     (9.0, 12.0]\n",
              "42473    (0.999, 6.0]\n",
              "42475    (12.0, 31.0]\n",
              "42478      (6.0, 9.0]\n",
              "42479     (9.0, 12.0]\n",
              "Name: open_acc, Length: 41498, dtype: category\n",
              "Categories (4, interval[float64, right]): [(0.999, 6.0] < (6.0, 9.0] < (9.0, 12.0] < (12.0, 31.0]]"
            ]
          },
          "metadata": {},
          "execution_count": 19
        }
      ]
    },
    {
      "cell_type": "code",
      "source": [
        "# łączę rekordy open_acc_quartiles w 4 grupy, które wyszły z użycia qcut\n",
        "df.open_acc = pd.cut(df.open_acc, bins=[0, 6,9,12,31], labels=[\"ACC_Low\", \"ACC_LowerMid\", \"ACC_HigherMID\",\"ACC_High\"], include_lowest=True)"
      ],
      "metadata": {
        "id": "_OPulvud1tCI"
      },
      "execution_count": null,
      "outputs": []
    },
    {
      "cell_type": "code",
      "source": [
        "# usuwam kolumnę open_acc_deciles oraz open_acc_quartiles\n",
        "df.drop(['open_acc_deciles', 'open_acc_quartiles'], axis = 1, inplace = True)"
      ],
      "metadata": {
        "id": "L4CK7MGn9eEc"
      },
      "execution_count": null,
      "outputs": []
    },
    {
      "cell_type": "code",
      "source": [
        "# sprawdzam kolumnę revol_bal czy wymaga binningu\n",
        "df.revol_bal.value_counts().sort_index()"
      ],
      "metadata": {
        "colab": {
          "base_uri": "https://localhost:8080/"
        },
        "id": "SQwXLvLSnWMj",
        "outputId": "d00e4b51-8e91-4a8b-cb56-e58f8c13fd8b"
      },
      "execution_count": null,
      "outputs": [
        {
          "output_type": "execute_result",
          "data": {
            "text/plain": [
              "0.0         990\n",
              "1.0          13\n",
              "2.0           5\n",
              "3.0           7\n",
              "4.0           3\n",
              "           ... \n",
              "123416.0      1\n",
              "123611.0      1\n",
              "123720.0      1\n",
              "123915.0      1\n",
              "123980.0      1\n",
              "Name: revol_bal, Length: 22299, dtype: int64"
            ]
          },
          "metadata": {},
          "execution_count": 22
        }
      ]
    },
    {
      "cell_type": "code",
      "source": [
        "# używam qcut dla znalezienia odpowiednich przedziałów - sprawdzam różnicę pomiędzuy podziałem na 4 i na 10 bins\n",
        "df['revol_bal_quartiles'] = pd.qcut(df['revol_bal'], q=4)\n",
        "df['revol_bal_deciles'] = pd.qcut(df['revol_bal'], q=10, precision=0)\n",
        "\n",
        "df.head()"
      ],
      "metadata": {
        "colab": {
          "base_uri": "https://localhost:8080/"
        },
        "id": "zKMcL6CgnhNh",
        "outputId": "3836e8cd-c288-4d7b-dba3-8e52b233f48e"
      },
      "execution_count": null,
      "outputs": [
        {
          "output_type": "execute_result",
          "data": {
            "text/plain": [
              "       loan_amnt  term  grade  emp_lenght  home_ownership     annual_inc  \\\n",
              "1       Loan_Low    36      2        10.0               2        Inc_Low   \n",
              "2       Loan_Low    60      3         1.0               2        Inc_Low   \n",
              "3       Loan_Low    36      3        10.0               2        Inc_Low   \n",
              "4  Loan_LowerMid    36      3        10.0               2   Inc_LowerMid   \n",
              "5       Loan_Low    60      2         1.0               2  Inc_HigherMID   \n",
              "\n",
              "   verification_status  desc         purpose  title(consolidation/not)  ...  \\\n",
              "1                    1     1     credit_card                         0  ...   \n",
              "2                    2     1             car                         0  ...   \n",
              "3                    0     0  small_business                         0  ...   \n",
              "4                    2     1           other                         0  ...   \n",
              "5                    2     1           other                         0  ...   \n",
              "\n",
              "   inq_last_6mths       open_acc revol_bal  revol_util_in_percent  \\\n",
              "1             1.0        ACC_Low   13648.0                   83.7   \n",
              "2             5.0        ACC_Low    1687.0                    9.4   \n",
              "3             2.0        ACC_Low    2956.0                   98.5   \n",
              "4             1.0  ACC_HigherMID    5598.0                   21.0   \n",
              "5             0.0       ACC_High   27783.0                   53.9   \n",
              "\n",
              "  pub_rec_bankruptcies  loan_status  earliest_cr_line_year  \\\n",
              "1                  0.0            1                   1985   \n",
              "2                  0.0            0                   1999   \n",
              "3                  0.0            1                   2001   \n",
              "4                  0.0            1                   1996   \n",
              "5                  0.0            1                   1996   \n",
              "\n",
              "   installment_to_inc  revol_bal_quartiles   revol_bal_deciles  \n",
              "1            6.950000    (8835.0, 17089.5]  (11519.0, 14903.0]  \n",
              "2            1.680000    (-0.001, 3689.25]    (1112.0, 2816.0]  \n",
              "3            6.562194    (-0.001, 3689.25]    (2816.0, 4609.0]  \n",
              "4            6.780488    (3689.25, 8835.0]    (4609.0, 6576.0]  \n",
              "5            0.750000  (17089.5, 123980.0]  (19867.0, 29515.0]  \n",
              "\n",
              "[5 rows x 23 columns]"
            ],
            "text/html": [
              "\n",
              "  <div id=\"df-c7cd1a0f-2404-40ba-9050-cfc2bddbcc40\">\n",
              "    <div class=\"colab-df-container\">\n",
              "      <div>\n",
              "<style scoped>\n",
              "    .dataframe tbody tr th:only-of-type {\n",
              "        vertical-align: middle;\n",
              "    }\n",
              "\n",
              "    .dataframe tbody tr th {\n",
              "        vertical-align: top;\n",
              "    }\n",
              "\n",
              "    .dataframe thead th {\n",
              "        text-align: right;\n",
              "    }\n",
              "</style>\n",
              "<table border=\"1\" class=\"dataframe\">\n",
              "  <thead>\n",
              "    <tr style=\"text-align: right;\">\n",
              "      <th></th>\n",
              "      <th>loan_amnt</th>\n",
              "      <th>term</th>\n",
              "      <th>grade</th>\n",
              "      <th>emp_lenght</th>\n",
              "      <th>home_ownership</th>\n",
              "      <th>annual_inc</th>\n",
              "      <th>verification_status</th>\n",
              "      <th>desc</th>\n",
              "      <th>purpose</th>\n",
              "      <th>title(consolidation/not)</th>\n",
              "      <th>...</th>\n",
              "      <th>inq_last_6mths</th>\n",
              "      <th>open_acc</th>\n",
              "      <th>revol_bal</th>\n",
              "      <th>revol_util_in_percent</th>\n",
              "      <th>pub_rec_bankruptcies</th>\n",
              "      <th>loan_status</th>\n",
              "      <th>earliest_cr_line_year</th>\n",
              "      <th>installment_to_inc</th>\n",
              "      <th>revol_bal_quartiles</th>\n",
              "      <th>revol_bal_deciles</th>\n",
              "    </tr>\n",
              "  </thead>\n",
              "  <tbody>\n",
              "    <tr>\n",
              "      <th>1</th>\n",
              "      <td>Loan_Low</td>\n",
              "      <td>36</td>\n",
              "      <td>2</td>\n",
              "      <td>10.0</td>\n",
              "      <td>2</td>\n",
              "      <td>Inc_Low</td>\n",
              "      <td>1</td>\n",
              "      <td>1</td>\n",
              "      <td>credit_card</td>\n",
              "      <td>0</td>\n",
              "      <td>...</td>\n",
              "      <td>1.0</td>\n",
              "      <td>ACC_Low</td>\n",
              "      <td>13648.0</td>\n",
              "      <td>83.7</td>\n",
              "      <td>0.0</td>\n",
              "      <td>1</td>\n",
              "      <td>1985</td>\n",
              "      <td>6.950000</td>\n",
              "      <td>(8835.0, 17089.5]</td>\n",
              "      <td>(11519.0, 14903.0]</td>\n",
              "    </tr>\n",
              "    <tr>\n",
              "      <th>2</th>\n",
              "      <td>Loan_Low</td>\n",
              "      <td>60</td>\n",
              "      <td>3</td>\n",
              "      <td>1.0</td>\n",
              "      <td>2</td>\n",
              "      <td>Inc_Low</td>\n",
              "      <td>2</td>\n",
              "      <td>1</td>\n",
              "      <td>car</td>\n",
              "      <td>0</td>\n",
              "      <td>...</td>\n",
              "      <td>5.0</td>\n",
              "      <td>ACC_Low</td>\n",
              "      <td>1687.0</td>\n",
              "      <td>9.4</td>\n",
              "      <td>0.0</td>\n",
              "      <td>0</td>\n",
              "      <td>1999</td>\n",
              "      <td>1.680000</td>\n",
              "      <td>(-0.001, 3689.25]</td>\n",
              "      <td>(1112.0, 2816.0]</td>\n",
              "    </tr>\n",
              "    <tr>\n",
              "      <th>3</th>\n",
              "      <td>Loan_Low</td>\n",
              "      <td>36</td>\n",
              "      <td>3</td>\n",
              "      <td>10.0</td>\n",
              "      <td>2</td>\n",
              "      <td>Inc_Low</td>\n",
              "      <td>0</td>\n",
              "      <td>0</td>\n",
              "      <td>small_business</td>\n",
              "      <td>0</td>\n",
              "      <td>...</td>\n",
              "      <td>2.0</td>\n",
              "      <td>ACC_Low</td>\n",
              "      <td>2956.0</td>\n",
              "      <td>98.5</td>\n",
              "      <td>0.0</td>\n",
              "      <td>1</td>\n",
              "      <td>2001</td>\n",
              "      <td>6.562194</td>\n",
              "      <td>(-0.001, 3689.25]</td>\n",
              "      <td>(2816.0, 4609.0]</td>\n",
              "    </tr>\n",
              "    <tr>\n",
              "      <th>4</th>\n",
              "      <td>Loan_LowerMid</td>\n",
              "      <td>36</td>\n",
              "      <td>3</td>\n",
              "      <td>10.0</td>\n",
              "      <td>2</td>\n",
              "      <td>Inc_LowerMid</td>\n",
              "      <td>2</td>\n",
              "      <td>1</td>\n",
              "      <td>other</td>\n",
              "      <td>0</td>\n",
              "      <td>...</td>\n",
              "      <td>1.0</td>\n",
              "      <td>ACC_HigherMID</td>\n",
              "      <td>5598.0</td>\n",
              "      <td>21.0</td>\n",
              "      <td>0.0</td>\n",
              "      <td>1</td>\n",
              "      <td>1996</td>\n",
              "      <td>6.780488</td>\n",
              "      <td>(3689.25, 8835.0]</td>\n",
              "      <td>(4609.0, 6576.0]</td>\n",
              "    </tr>\n",
              "    <tr>\n",
              "      <th>5</th>\n",
              "      <td>Loan_Low</td>\n",
              "      <td>60</td>\n",
              "      <td>2</td>\n",
              "      <td>1.0</td>\n",
              "      <td>2</td>\n",
              "      <td>Inc_HigherMID</td>\n",
              "      <td>2</td>\n",
              "      <td>1</td>\n",
              "      <td>other</td>\n",
              "      <td>0</td>\n",
              "      <td>...</td>\n",
              "      <td>0.0</td>\n",
              "      <td>ACC_High</td>\n",
              "      <td>27783.0</td>\n",
              "      <td>53.9</td>\n",
              "      <td>0.0</td>\n",
              "      <td>1</td>\n",
              "      <td>1996</td>\n",
              "      <td>0.750000</td>\n",
              "      <td>(17089.5, 123980.0]</td>\n",
              "      <td>(19867.0, 29515.0]</td>\n",
              "    </tr>\n",
              "  </tbody>\n",
              "</table>\n",
              "<p>5 rows × 23 columns</p>\n",
              "</div>\n",
              "      <button class=\"colab-df-convert\" onclick=\"convertToInteractive('df-c7cd1a0f-2404-40ba-9050-cfc2bddbcc40')\"\n",
              "              title=\"Convert this dataframe to an interactive table.\"\n",
              "              style=\"display:none;\">\n",
              "        \n",
              "  <svg xmlns=\"http://www.w3.org/2000/svg\" height=\"24px\"viewBox=\"0 0 24 24\"\n",
              "       width=\"24px\">\n",
              "    <path d=\"M0 0h24v24H0V0z\" fill=\"none\"/>\n",
              "    <path d=\"M18.56 5.44l.94 2.06.94-2.06 2.06-.94-2.06-.94-.94-2.06-.94 2.06-2.06.94zm-11 1L8.5 8.5l.94-2.06 2.06-.94-2.06-.94L8.5 2.5l-.94 2.06-2.06.94zm10 10l.94 2.06.94-2.06 2.06-.94-2.06-.94-.94-2.06-.94 2.06-2.06.94z\"/><path d=\"M17.41 7.96l-1.37-1.37c-.4-.4-.92-.59-1.43-.59-.52 0-1.04.2-1.43.59L10.3 9.45l-7.72 7.72c-.78.78-.78 2.05 0 2.83L4 21.41c.39.39.9.59 1.41.59.51 0 1.02-.2 1.41-.59l7.78-7.78 2.81-2.81c.8-.78.8-2.07 0-2.86zM5.41 20L4 18.59l7.72-7.72 1.47 1.35L5.41 20z\"/>\n",
              "  </svg>\n",
              "      </button>\n",
              "      \n",
              "  <style>\n",
              "    .colab-df-container {\n",
              "      display:flex;\n",
              "      flex-wrap:wrap;\n",
              "      gap: 12px;\n",
              "    }\n",
              "\n",
              "    .colab-df-convert {\n",
              "      background-color: #E8F0FE;\n",
              "      border: none;\n",
              "      border-radius: 50%;\n",
              "      cursor: pointer;\n",
              "      display: none;\n",
              "      fill: #1967D2;\n",
              "      height: 32px;\n",
              "      padding: 0 0 0 0;\n",
              "      width: 32px;\n",
              "    }\n",
              "\n",
              "    .colab-df-convert:hover {\n",
              "      background-color: #E2EBFA;\n",
              "      box-shadow: 0px 1px 2px rgba(60, 64, 67, 0.3), 0px 1px 3px 1px rgba(60, 64, 67, 0.15);\n",
              "      fill: #174EA6;\n",
              "    }\n",
              "\n",
              "    [theme=dark] .colab-df-convert {\n",
              "      background-color: #3B4455;\n",
              "      fill: #D2E3FC;\n",
              "    }\n",
              "\n",
              "    [theme=dark] .colab-df-convert:hover {\n",
              "      background-color: #434B5C;\n",
              "      box-shadow: 0px 1px 3px 1px rgba(0, 0, 0, 0.15);\n",
              "      filter: drop-shadow(0px 1px 2px rgba(0, 0, 0, 0.3));\n",
              "      fill: #FFFFFF;\n",
              "    }\n",
              "  </style>\n",
              "\n",
              "      <script>\n",
              "        const buttonEl =\n",
              "          document.querySelector('#df-c7cd1a0f-2404-40ba-9050-cfc2bddbcc40 button.colab-df-convert');\n",
              "        buttonEl.style.display =\n",
              "          google.colab.kernel.accessAllowed ? 'block' : 'none';\n",
              "\n",
              "        async function convertToInteractive(key) {\n",
              "          const element = document.querySelector('#df-c7cd1a0f-2404-40ba-9050-cfc2bddbcc40');\n",
              "          const dataTable =\n",
              "            await google.colab.kernel.invokeFunction('convertToInteractive',\n",
              "                                                     [key], {});\n",
              "          if (!dataTable) return;\n",
              "\n",
              "          const docLinkHtml = 'Like what you see? Visit the ' +\n",
              "            '<a target=\"_blank\" href=https://colab.research.google.com/notebooks/data_table.ipynb>data table notebook</a>'\n",
              "            + ' to learn more about interactive tables.';\n",
              "          element.innerHTML = '';\n",
              "          dataTable['output_type'] = 'display_data';\n",
              "          await google.colab.output.renderOutput(dataTable, element);\n",
              "          const docLink = document.createElement('div');\n",
              "          docLink.innerHTML = docLinkHtml;\n",
              "          element.appendChild(docLink);\n",
              "        }\n",
              "      </script>\n",
              "    </div>\n",
              "  </div>\n",
              "  "
            ]
          },
          "metadata": {},
          "execution_count": 23
        }
      ]
    },
    {
      "cell_type": "code",
      "source": [
        "df['revol_bal_deciles'].value_counts()"
      ],
      "metadata": {
        "colab": {
          "base_uri": "https://localhost:8080/"
        },
        "id": "Y7PcI088oEPQ",
        "outputId": "46b88a7f-ee71-4a31-e341-fc071f2528aa"
      },
      "execution_count": null,
      "outputs": [
        {
          "output_type": "execute_result",
          "data": {
            "text/plain": [
              "(-1.0, 1112.0]         4152\n",
              "(8835.0, 11519.0]      4151\n",
              "(2816.0, 4609.0]       4150\n",
              "(6576.0, 8835.0]       4150\n",
              "(14903.0, 19867.0]     4150\n",
              "(19867.0, 29515.0]     4150\n",
              "(29515.0, 123980.0]    4150\n",
              "(4609.0, 6576.0]       4149\n",
              "(1112.0, 2816.0]       4148\n",
              "(11519.0, 14903.0]     4148\n",
              "Name: revol_bal_deciles, dtype: int64"
            ]
          },
          "metadata": {},
          "execution_count": 24
        }
      ]
    },
    {
      "cell_type": "code",
      "source": [
        "df['revol_bal_quartiles'].value_counts()"
      ],
      "metadata": {
        "colab": {
          "base_uri": "https://localhost:8080/"
        },
        "id": "etaVBgaToJGP",
        "outputId": "d779ac15-2ef8-4616-baf3-7f857d485ed5"
      },
      "execution_count": null,
      "outputs": [
        {
          "output_type": "execute_result",
          "data": {
            "text/plain": [
              "(-0.001, 3689.25]      10375\n",
              "(17089.5, 123980.0]    10375\n",
              "(3689.25, 8835.0]      10374\n",
              "(8835.0, 17089.5]      10374\n",
              "Name: revol_bal_quartiles, dtype: int64"
            ]
          },
          "metadata": {},
          "execution_count": 25
        }
      ]
    },
    {
      "cell_type": "code",
      "source": [
        "# wybieram podział na 4 biny\n",
        "pd.qcut(df['revol_bal'], q=4)"
      ],
      "metadata": {
        "colab": {
          "base_uri": "https://localhost:8080/"
        },
        "id": "jar4qQtRocai",
        "outputId": "4edc7847-1e40-464a-f1ae-7ec780b5d076"
      },
      "execution_count": null,
      "outputs": [
        {
          "output_type": "execute_result",
          "data": {
            "text/plain": [
              "1          (8835.0, 17089.5]\n",
              "2          (-0.001, 3689.25]\n",
              "3          (-0.001, 3689.25]\n",
              "4          (3689.25, 8835.0]\n",
              "5        (17089.5, 123980.0]\n",
              "                ...         \n",
              "42472      (8835.0, 17089.5]\n",
              "42473      (-0.001, 3689.25]\n",
              "42475      (8835.0, 17089.5]\n",
              "42478      (-0.001, 3689.25]\n",
              "42479      (-0.001, 3689.25]\n",
              "Name: revol_bal, Length: 41498, dtype: category\n",
              "Categories (4, interval[float64, right]): [(-0.001, 3689.25] < (3689.25, 8835.0] < (8835.0, 17089.5] <\n",
              "                                           (17089.5, 123980.0]]"
            ]
          },
          "metadata": {},
          "execution_count": 26
        }
      ]
    },
    {
      "cell_type": "code",
      "source": [
        "# łączę rekordy revol_bal_quartiles w 4 grupy, które wyszły z użycia qcut\n",
        "df.revol_bal = pd.cut(df.revol_bal, bins=[0, 3689.26,8835.1,17089.6,123980], labels=[\"revol_bal_Low\", \"revol_bal_LowerMid\", \"revol_bal_HigherMID\",\"revol_bal_High\"], include_lowest=True)"
      ],
      "metadata": {
        "id": "jvOzYl5cojys"
      },
      "execution_count": null,
      "outputs": []
    },
    {
      "cell_type": "code",
      "source": [
        "# usuwam kolumnę revol_bal_deciles oraz revol_bal_quartiles\n",
        "df.drop(['revol_bal_deciles', 'revol_bal_quartiles'], axis = 1, inplace = True)"
      ],
      "metadata": {
        "id": "6upIrL1ZpBYb"
      },
      "execution_count": null,
      "outputs": []
    },
    {
      "cell_type": "code",
      "source": [
        "# sprawdzam czy zrobić binning na inq_last_6mths\n",
        "df.inq_last_6mths.value_counts()"
      ],
      "metadata": {
        "colab": {
          "base_uri": "https://localhost:8080/"
        },
        "id": "3axpRlDiWUFp",
        "outputId": "c32f677c-400f-4f51-f007-602bd43d5555"
      },
      "execution_count": null,
      "outputs": [
        {
          "output_type": "execute_result",
          "data": {
            "text/plain": [
              "0.0    19285\n",
              "1.0    11024\n",
              "2.0     5878\n",
              "3.0     3105\n",
              "4.0     1012\n",
              "5.0      579\n",
              "6.0      328\n",
              "7.0      174\n",
              "8.0      113\n",
              "Name: inq_last_6mths, dtype: int64"
            ]
          },
          "metadata": {},
          "execution_count": 29
        }
      ]
    },
    {
      "cell_type": "code",
      "source": [
        "# łączę rekordy inq_last_6mths_flow w 4 grupy\n",
        "df['inq_last_6mths'] = pd.cut(df.inq_last_6mths, bins=[0,2,3,9], labels=[\"inquire_Low\", \"inquire_Mid\", \"inquire_High\"], include_lowest=True)"
      ],
      "metadata": {
        "id": "g3XzgklLWjrY"
      },
      "execution_count": null,
      "outputs": []
    },
    {
      "cell_type": "markdown",
      "source": [
        "## One hot encoding - purpose, addr_state i wszystkie kolumny po binningu"
      ],
      "metadata": {
        "id": "JOw1bv7NjQ3s"
      }
    },
    {
      "cell_type": "code",
      "source": [
        "df.purpose.value_counts()"
      ],
      "metadata": {
        "colab": {
          "base_uri": "https://localhost:8080/"
        },
        "id": "Fv1yK_0o_Kw0",
        "outputId": "0423309f-9ad6-48a5-9723-a39f6915567c"
      },
      "execution_count": null,
      "outputs": [
        {
          "output_type": "execute_result",
          "data": {
            "text/plain": [
              "debt_consolidation    19434\n",
              "credit_card            5351\n",
              "other                  4266\n",
              "home_improvement       3089\n",
              "major_purchase         2250\n",
              "small_business         1906\n",
              "car                    1587\n",
              "wedding                 978\n",
              "medical                 727\n",
              "moving                  614\n",
              "house                   406\n",
              "educational             396\n",
              "vacation                393\n",
              "renewable_energy        101\n",
              "Name: purpose, dtype: int64"
            ]
          },
          "metadata": {},
          "execution_count": 31
        }
      ]
    },
    {
      "cell_type": "code",
      "source": [
        "# zmniejszam liczbę kategorii, tak aby te występujące najrzadziej stanowiły jedną grupę - other_purpose\n",
        "mask = df['purpose'].str.contains(pat= ('wedding|medical|moving|house|educational|vactaion|renewable_energy|other'), na=True)\n",
        "df.loc[mask, 'purpose'] = 'other_purpose'"
      ],
      "metadata": {
        "id": "YwdJeUWiPpYw"
      },
      "execution_count": null,
      "outputs": []
    },
    {
      "cell_type": "code",
      "source": [
        "df.purpose.value_counts()"
      ],
      "metadata": {
        "colab": {
          "base_uri": "https://localhost:8080/"
        },
        "id": "O9qXDNS0RlOa",
        "outputId": "48608ec9-4df0-41c3-ec1e-6ae9a0dcfb80"
      },
      "execution_count": null,
      "outputs": [
        {
          "output_type": "execute_result",
          "data": {
            "text/plain": [
              "debt_consolidation    19434\n",
              "other_purpose          7488\n",
              "credit_card            5351\n",
              "home_improvement       3089\n",
              "major_purchase         2250\n",
              "small_business         1906\n",
              "car                    1587\n",
              "vacation                393\n",
              "Name: purpose, dtype: int64"
            ]
          },
          "metadata": {},
          "execution_count": 33
        }
      ]
    },
    {
      "cell_type": "markdown",
      "source": [
        "Poniżej robię one hot encoding na kolejnych kolumnach"
      ],
      "metadata": {
        "id": "282KxKHmSN5l"
      }
    },
    {
      "cell_type": "code",
      "source": [
        "encoded_columns = pd.get_dummies(df['purpose'])\n",
        "df = df.join(encoded_columns).drop('purpose', axis=1)"
      ],
      "metadata": {
        "id": "6kQnF83GtzuK"
      },
      "execution_count": null,
      "outputs": []
    },
    {
      "cell_type": "code",
      "source": [
        "encoded_columns = pd.get_dummies(df['fico_range_low'])\n",
        "df = df.join(encoded_columns).drop('fico_range_low', axis=1)"
      ],
      "metadata": {
        "id": "C7wMnVEgSIqt"
      },
      "execution_count": null,
      "outputs": []
    },
    {
      "cell_type": "code",
      "source": [
        "encoded_columns = pd.get_dummies(df['annual_inc'])\n",
        "df = df.join(encoded_columns).drop('annual_inc', axis=1)"
      ],
      "metadata": {
        "id": "J9OPqm4vSI8Q"
      },
      "execution_count": null,
      "outputs": []
    },
    {
      "cell_type": "code",
      "source": [
        "encoded_columns = pd.get_dummies(df['loan_amnt'])\n",
        "df = df.join(encoded_columns).drop('loan_amnt', axis=1)"
      ],
      "metadata": {
        "id": "hna5OGynSJK_"
      },
      "execution_count": null,
      "outputs": []
    },
    {
      "cell_type": "code",
      "source": [
        "encoded_columns = pd.get_dummies(df['open_acc'])\n",
        "df = df.join(encoded_columns).drop('open_acc', axis=1)"
      ],
      "metadata": {
        "id": "g2hSCOyHSJZ8"
      },
      "execution_count": null,
      "outputs": []
    },
    {
      "cell_type": "code",
      "source": [
        "encoded_columns = pd.get_dummies(df['inq_last_6mths'])\n",
        "df = df.join(encoded_columns).drop('inq_last_6mths', axis=1)"
      ],
      "metadata": {
        "id": "EQSJVW8MUrCG"
      },
      "execution_count": null,
      "outputs": []
    },
    {
      "cell_type": "code",
      "source": [
        "encoded_columns = pd.get_dummies(df['revol_bal'])\n",
        "df = df.join(encoded_columns).drop('revol_bal', axis=1)"
      ],
      "metadata": {
        "id": "oTuX3JSTpSFe"
      },
      "execution_count": null,
      "outputs": []
    },
    {
      "cell_type": "markdown",
      "source": [
        "## Obejrzenie i zapisanie bazy po zmianach."
      ],
      "metadata": {
        "id": "9lEsBDCH9_Qp"
      }
    },
    {
      "cell_type": "code",
      "source": [
        "df.columns"
      ],
      "metadata": {
        "colab": {
          "base_uri": "https://localhost:8080/"
        },
        "id": "ASWkmQ8gtA1u",
        "outputId": "42050ce2-06b9-47e4-a9a4-a3bc63590b12"
      },
      "execution_count": null,
      "outputs": [
        {
          "output_type": "execute_result",
          "data": {
            "text/plain": [
              "Index(['term', 'grade', 'emp_lenght', 'home_ownership', 'verification_status',\n",
              "       'desc', 'title(consolidation/not)', 'dti', 'delinq_2yrs',\n",
              "       'revol_util_in_percent', 'pub_rec_bankruptcies', 'loan_status',\n",
              "       'earliest_cr_line_year', 'installment_to_inc', 'car', 'credit_card',\n",
              "       'debt_consolidation', 'home_improvement', 'major_purchase',\n",
              "       'other_purpose', 'small_business', 'vacation', 'Fico_Low',\n",
              "       'Fico_LowerMid', 'Fico_HigherMID', 'Fico_High', 'Inc_Low',\n",
              "       'Inc_LowerMid', 'Inc_HigherMID', 'Inc_High', 'Loan_Low',\n",
              "       'Loan_LowerMid', 'Loan_HigherMID', 'Loan_High', 'ACC_Low',\n",
              "       'ACC_LowerMid', 'ACC_HigherMID', 'ACC_High', 'inquire_Low',\n",
              "       'inquire_Mid', 'inquire_High', 'revol_bal_Low', 'revol_bal_LowerMid',\n",
              "       'revol_bal_HigherMID', 'revol_bal_High'],\n",
              "      dtype='object')"
            ]
          },
          "metadata": {},
          "execution_count": 41
        }
      ]
    },
    {
      "cell_type": "code",
      "source": [
        "df.shape"
      ],
      "metadata": {
        "colab": {
          "base_uri": "https://localhost:8080/"
        },
        "id": "FusTnqm_-Gog",
        "outputId": "f2dfaadc-23f0-4570-8654-8bee5ac5732c"
      },
      "execution_count": null,
      "outputs": [
        {
          "output_type": "execute_result",
          "data": {
            "text/plain": [
              "(41498, 45)"
            ]
          },
          "metadata": {},
          "execution_count": 42
        }
      ]
    },
    {
      "cell_type": "code",
      "source": [
        "df.head()"
      ],
      "metadata": {
        "colab": {
          "base_uri": "https://localhost:8080/"
        },
        "id": "lgAmo2vnshyb",
        "outputId": "56637fa2-aa88-4a3c-8e45-b2f82ca32314"
      },
      "execution_count": null,
      "outputs": [
        {
          "output_type": "execute_result",
          "data": {
            "text/plain": [
              "   term  grade  emp_lenght  home_ownership  verification_status  desc  \\\n",
              "1    36      2        10.0               2                    1     1   \n",
              "2    60      3         1.0               2                    2     1   \n",
              "3    36      3        10.0               2                    0     0   \n",
              "4    36      3        10.0               2                    2     1   \n",
              "5    60      2         1.0               2                    2     1   \n",
              "\n",
              "   title(consolidation/not)    dti  delinq_2yrs  revol_util_in_percent  ...  \\\n",
              "1                         0  27.65          0.0                   83.7  ...   \n",
              "2                         0   1.00          0.0                    9.4  ...   \n",
              "3                         0   8.72          0.0                   98.5  ...   \n",
              "4                         0  20.00          0.0                   21.0  ...   \n",
              "5                         0  17.94          0.0                   53.9  ...   \n",
              "\n",
              "   ACC_LowerMid  ACC_HigherMID  ACC_High  inquire_Low  inquire_Mid  \\\n",
              "1             0              0         0            1            0   \n",
              "2             0              0         0            0            0   \n",
              "3             0              0         0            1            0   \n",
              "4             0              1         0            1            0   \n",
              "5             0              0         1            1            0   \n",
              "\n",
              "   inquire_High  revol_bal_Low  revol_bal_LowerMid  revol_bal_HigherMID  \\\n",
              "1             0              0                   0                    1   \n",
              "2             1              1                   0                    0   \n",
              "3             0              1                   0                    0   \n",
              "4             0              0                   1                    0   \n",
              "5             0              0                   0                    0   \n",
              "\n",
              "   revol_bal_High  \n",
              "1               0  \n",
              "2               0  \n",
              "3               0  \n",
              "4               0  \n",
              "5               1  \n",
              "\n",
              "[5 rows x 45 columns]"
            ],
            "text/html": [
              "\n",
              "  <div id=\"df-61f06ad4-fb0d-4c86-9610-831d9b0475b3\">\n",
              "    <div class=\"colab-df-container\">\n",
              "      <div>\n",
              "<style scoped>\n",
              "    .dataframe tbody tr th:only-of-type {\n",
              "        vertical-align: middle;\n",
              "    }\n",
              "\n",
              "    .dataframe tbody tr th {\n",
              "        vertical-align: top;\n",
              "    }\n",
              "\n",
              "    .dataframe thead th {\n",
              "        text-align: right;\n",
              "    }\n",
              "</style>\n",
              "<table border=\"1\" class=\"dataframe\">\n",
              "  <thead>\n",
              "    <tr style=\"text-align: right;\">\n",
              "      <th></th>\n",
              "      <th>term</th>\n",
              "      <th>grade</th>\n",
              "      <th>emp_lenght</th>\n",
              "      <th>home_ownership</th>\n",
              "      <th>verification_status</th>\n",
              "      <th>desc</th>\n",
              "      <th>title(consolidation/not)</th>\n",
              "      <th>dti</th>\n",
              "      <th>delinq_2yrs</th>\n",
              "      <th>revol_util_in_percent</th>\n",
              "      <th>...</th>\n",
              "      <th>ACC_LowerMid</th>\n",
              "      <th>ACC_HigherMID</th>\n",
              "      <th>ACC_High</th>\n",
              "      <th>inquire_Low</th>\n",
              "      <th>inquire_Mid</th>\n",
              "      <th>inquire_High</th>\n",
              "      <th>revol_bal_Low</th>\n",
              "      <th>revol_bal_LowerMid</th>\n",
              "      <th>revol_bal_HigherMID</th>\n",
              "      <th>revol_bal_High</th>\n",
              "    </tr>\n",
              "  </thead>\n",
              "  <tbody>\n",
              "    <tr>\n",
              "      <th>1</th>\n",
              "      <td>36</td>\n",
              "      <td>2</td>\n",
              "      <td>10.0</td>\n",
              "      <td>2</td>\n",
              "      <td>1</td>\n",
              "      <td>1</td>\n",
              "      <td>0</td>\n",
              "      <td>27.65</td>\n",
              "      <td>0.0</td>\n",
              "      <td>83.7</td>\n",
              "      <td>...</td>\n",
              "      <td>0</td>\n",
              "      <td>0</td>\n",
              "      <td>0</td>\n",
              "      <td>1</td>\n",
              "      <td>0</td>\n",
              "      <td>0</td>\n",
              "      <td>0</td>\n",
              "      <td>0</td>\n",
              "      <td>1</td>\n",
              "      <td>0</td>\n",
              "    </tr>\n",
              "    <tr>\n",
              "      <th>2</th>\n",
              "      <td>60</td>\n",
              "      <td>3</td>\n",
              "      <td>1.0</td>\n",
              "      <td>2</td>\n",
              "      <td>2</td>\n",
              "      <td>1</td>\n",
              "      <td>0</td>\n",
              "      <td>1.00</td>\n",
              "      <td>0.0</td>\n",
              "      <td>9.4</td>\n",
              "      <td>...</td>\n",
              "      <td>0</td>\n",
              "      <td>0</td>\n",
              "      <td>0</td>\n",
              "      <td>0</td>\n",
              "      <td>0</td>\n",
              "      <td>1</td>\n",
              "      <td>1</td>\n",
              "      <td>0</td>\n",
              "      <td>0</td>\n",
              "      <td>0</td>\n",
              "    </tr>\n",
              "    <tr>\n",
              "      <th>3</th>\n",
              "      <td>36</td>\n",
              "      <td>3</td>\n",
              "      <td>10.0</td>\n",
              "      <td>2</td>\n",
              "      <td>0</td>\n",
              "      <td>0</td>\n",
              "      <td>0</td>\n",
              "      <td>8.72</td>\n",
              "      <td>0.0</td>\n",
              "      <td>98.5</td>\n",
              "      <td>...</td>\n",
              "      <td>0</td>\n",
              "      <td>0</td>\n",
              "      <td>0</td>\n",
              "      <td>1</td>\n",
              "      <td>0</td>\n",
              "      <td>0</td>\n",
              "      <td>1</td>\n",
              "      <td>0</td>\n",
              "      <td>0</td>\n",
              "      <td>0</td>\n",
              "    </tr>\n",
              "    <tr>\n",
              "      <th>4</th>\n",
              "      <td>36</td>\n",
              "      <td>3</td>\n",
              "      <td>10.0</td>\n",
              "      <td>2</td>\n",
              "      <td>2</td>\n",
              "      <td>1</td>\n",
              "      <td>0</td>\n",
              "      <td>20.00</td>\n",
              "      <td>0.0</td>\n",
              "      <td>21.0</td>\n",
              "      <td>...</td>\n",
              "      <td>0</td>\n",
              "      <td>1</td>\n",
              "      <td>0</td>\n",
              "      <td>1</td>\n",
              "      <td>0</td>\n",
              "      <td>0</td>\n",
              "      <td>0</td>\n",
              "      <td>1</td>\n",
              "      <td>0</td>\n",
              "      <td>0</td>\n",
              "    </tr>\n",
              "    <tr>\n",
              "      <th>5</th>\n",
              "      <td>60</td>\n",
              "      <td>2</td>\n",
              "      <td>1.0</td>\n",
              "      <td>2</td>\n",
              "      <td>2</td>\n",
              "      <td>1</td>\n",
              "      <td>0</td>\n",
              "      <td>17.94</td>\n",
              "      <td>0.0</td>\n",
              "      <td>53.9</td>\n",
              "      <td>...</td>\n",
              "      <td>0</td>\n",
              "      <td>0</td>\n",
              "      <td>1</td>\n",
              "      <td>1</td>\n",
              "      <td>0</td>\n",
              "      <td>0</td>\n",
              "      <td>0</td>\n",
              "      <td>0</td>\n",
              "      <td>0</td>\n",
              "      <td>1</td>\n",
              "    </tr>\n",
              "  </tbody>\n",
              "</table>\n",
              "<p>5 rows × 45 columns</p>\n",
              "</div>\n",
              "      <button class=\"colab-df-convert\" onclick=\"convertToInteractive('df-61f06ad4-fb0d-4c86-9610-831d9b0475b3')\"\n",
              "              title=\"Convert this dataframe to an interactive table.\"\n",
              "              style=\"display:none;\">\n",
              "        \n",
              "  <svg xmlns=\"http://www.w3.org/2000/svg\" height=\"24px\"viewBox=\"0 0 24 24\"\n",
              "       width=\"24px\">\n",
              "    <path d=\"M0 0h24v24H0V0z\" fill=\"none\"/>\n",
              "    <path d=\"M18.56 5.44l.94 2.06.94-2.06 2.06-.94-2.06-.94-.94-2.06-.94 2.06-2.06.94zm-11 1L8.5 8.5l.94-2.06 2.06-.94-2.06-.94L8.5 2.5l-.94 2.06-2.06.94zm10 10l.94 2.06.94-2.06 2.06-.94-2.06-.94-.94-2.06-.94 2.06-2.06.94z\"/><path d=\"M17.41 7.96l-1.37-1.37c-.4-.4-.92-.59-1.43-.59-.52 0-1.04.2-1.43.59L10.3 9.45l-7.72 7.72c-.78.78-.78 2.05 0 2.83L4 21.41c.39.39.9.59 1.41.59.51 0 1.02-.2 1.41-.59l7.78-7.78 2.81-2.81c.8-.78.8-2.07 0-2.86zM5.41 20L4 18.59l7.72-7.72 1.47 1.35L5.41 20z\"/>\n",
              "  </svg>\n",
              "      </button>\n",
              "      \n",
              "  <style>\n",
              "    .colab-df-container {\n",
              "      display:flex;\n",
              "      flex-wrap:wrap;\n",
              "      gap: 12px;\n",
              "    }\n",
              "\n",
              "    .colab-df-convert {\n",
              "      background-color: #E8F0FE;\n",
              "      border: none;\n",
              "      border-radius: 50%;\n",
              "      cursor: pointer;\n",
              "      display: none;\n",
              "      fill: #1967D2;\n",
              "      height: 32px;\n",
              "      padding: 0 0 0 0;\n",
              "      width: 32px;\n",
              "    }\n",
              "\n",
              "    .colab-df-convert:hover {\n",
              "      background-color: #E2EBFA;\n",
              "      box-shadow: 0px 1px 2px rgba(60, 64, 67, 0.3), 0px 1px 3px 1px rgba(60, 64, 67, 0.15);\n",
              "      fill: #174EA6;\n",
              "    }\n",
              "\n",
              "    [theme=dark] .colab-df-convert {\n",
              "      background-color: #3B4455;\n",
              "      fill: #D2E3FC;\n",
              "    }\n",
              "\n",
              "    [theme=dark] .colab-df-convert:hover {\n",
              "      background-color: #434B5C;\n",
              "      box-shadow: 0px 1px 3px 1px rgba(0, 0, 0, 0.15);\n",
              "      filter: drop-shadow(0px 1px 2px rgba(0, 0, 0, 0.3));\n",
              "      fill: #FFFFFF;\n",
              "    }\n",
              "  </style>\n",
              "\n",
              "      <script>\n",
              "        const buttonEl =\n",
              "          document.querySelector('#df-61f06ad4-fb0d-4c86-9610-831d9b0475b3 button.colab-df-convert');\n",
              "        buttonEl.style.display =\n",
              "          google.colab.kernel.accessAllowed ? 'block' : 'none';\n",
              "\n",
              "        async function convertToInteractive(key) {\n",
              "          const element = document.querySelector('#df-61f06ad4-fb0d-4c86-9610-831d9b0475b3');\n",
              "          const dataTable =\n",
              "            await google.colab.kernel.invokeFunction('convertToInteractive',\n",
              "                                                     [key], {});\n",
              "          if (!dataTable) return;\n",
              "\n",
              "          const docLinkHtml = 'Like what you see? Visit the ' +\n",
              "            '<a target=\"_blank\" href=https://colab.research.google.com/notebooks/data_table.ipynb>data table notebook</a>'\n",
              "            + ' to learn more about interactive tables.';\n",
              "          element.innerHTML = '';\n",
              "          dataTable['output_type'] = 'display_data';\n",
              "          await google.colab.output.renderOutput(dataTable, element);\n",
              "          const docLink = document.createElement('div');\n",
              "          docLink.innerHTML = docLinkHtml;\n",
              "          element.appendChild(docLink);\n",
              "        }\n",
              "      </script>\n",
              "    </div>\n",
              "  </div>\n",
              "  "
            ]
          },
          "metadata": {},
          "execution_count": 43
        }
      ]
    },
    {
      "cell_type": "code",
      "source": [
        "path = '/content/drive/My Drive/projekt_koncowy/Loan_data_after_part_3_mniej_kolumn.csv'\n",
        "\n",
        "with open(path, 'w', encoding = 'utf-8-sig') as f:\n",
        "  df.to_csv(f)"
      ],
      "metadata": {
        "id": "SypfW8NTJkqX"
      },
      "execution_count": null,
      "outputs": []
    }
  ]
}